{
 "cells": [
  {
   "cell_type": "markdown",
   "metadata": {},
   "source": [
    "![]()"
   ]
  },
  {
   "cell_type": "markdown",
   "metadata": {},
   "source": [
    "# Who Do You Sound Like?\n",
    "### Notebook 1: Data Collection & Cleaning\n",
    "#### Adam Zucker\n",
    "---"
   ]
  },
  {
   "cell_type": "markdown",
   "metadata": {},
   "source": [
    "## The Problem"
   ]
  },
  {
   "cell_type": "markdown",
   "metadata": {},
   "source": [
    "The advent of affordable tools for home recording over the last 20 years has made music creation more accessible than ever before. Simultaneously, social media platforms such as Instagram and Facebook have made it similarly cheap and easy to advertise yourself to a targeted audience. However, most budding musicians, and even seasoned industry veterans, don't always know the best way to reach new fans; the *how*, *who*, and *where* questions always loom tall when it's time for a new release.\n",
    "\n",
    "**In this study, I intend to create a recommender system to show similarities between the music of a new artist and that of popular artists around the globe, in order to generate basic recommendations to best connect new artists with new fans. I'll base this model on data from hundreds of thousands of songs hosted on the popular streaming platform Spotify, along with metrics I'll extract from a new artist's music using a Python library called Librosa.**"
   ]
  },
  {
   "cell_type": "markdown",
   "metadata": {},
   "source": [
    "## Background"
   ]
  },
  {
   "cell_type": "markdown",
   "metadata": {},
   "source": [
    "Music things."
   ]
  },
  {
   "cell_type": "markdown",
   "metadata": {},
   "source": [
    "## Scope"
   ]
  },
  {
   "cell_type": "markdown",
   "metadata": {},
   "source": [
    "How far I made it. What's the data?"
   ]
  },
  {
   "cell_type": "markdown",
   "metadata": {},
   "source": [
    "## Contents"
   ]
  },
  {
   "cell_type": "markdown",
   "metadata": {},
   "source": [
    "- **Section 1:** Package and data imports\n",
    "- **Section 2:** Data cleaning and feature selection\n",
    "- **Section 3:** Data exports"
   ]
  },
  {
   "cell_type": "markdown",
   "metadata": {},
   "source": [
    "---\n",
    "## Section 1\n",
    "### Imports"
   ]
  },
  {
   "cell_type": "code",
   "execution_count": 1,
   "metadata": {},
   "outputs": [],
   "source": [
    "import numpy as np\n",
    "import pandas as pd\n",
    "import matplotlib.pyplot as plt\n",
    "import scipy as sp\n",
    "import seaborn as sns\n",
    "\n",
    "import os\n",
    "import IPython.display as ipd\n",
    "\n",
    "import spotipy as sp\n",
    "import tekore as tk\n",
    "import librosa as lib\n",
    "import librosa.display as libd"
   ]
  },
  {
   "cell_type": "markdown",
   "metadata": {},
   "source": [
    "---"
   ]
  },
  {
   "cell_type": "markdown",
   "metadata": {},
   "source": [
    "**BELOW:** Importing master Spotify song dataset, sourced from [Kaggle](https://www.kaggle.com/yamaerenay/spotify-dataset-19212020-160k-tracks?select=data.csv). Some brief descriptions of less tangible features, as defined by [Spotify](https://developer.spotify.com/documentation/web-api/reference/):\n",
    "- **Acousticness:** A confidence measure from 0.0 to 1.0 of whether the track is acoustic.\n",
    "- **Danceability:** How suitable a track is for dancing based on a combination of musical elements including tempo, rhythm stability, beat strength, and overall regularity. A value of 0.0 is least danceable and 1.0 is most danceable. \n",
    "- **Energy:** A measure from 0.0 to 1.0 and represents a perceptual measure of intensity and activity. Typically, energetic tracks feel fast, loud, and noisy. For example, death metal has high energy, while a Bach prelude scores low on the scale. Perceptual features contributing to this attribute include dynamic range, perceived loudness, timbre, onset rate, and general entropy.\n",
    "- **Instrumentalness:** Predicts whether a track contains vocals. “Ooh” and “aah” sounds are treated as instrumental in this context. Rap or spoken word tracks are clearly “vocal”. The closer the instrumentalness value is to 1.0, the greater likelihood the track contains no vocal content. Values above 0.5 are intended to represent instrumental tracks, but confidence is higher as the value approaches 1.0.\n",
    "- **Liveness:** Detects the presence of an audience in the recording. Higher liveness values represent an increased probability that the track was performed live. A value above 0.8 provides strong likelihood that the track is live.\n",
    "- **Loudness:** The overall loudness of a track in decibels (dB). Loudness values are averaged across the entire track and are useful for comparing relative loudness of tracks. Loudness is the quality of a sound that is the primary psychological correlate of physical strength (amplitude). Values typically range between -60 and 0 dB.\n",
    "- **Popularity:** The popularity of a track is a value between 0 and 100, with 100 being the most popular. The popularity is calculated by algorithm and is based, in the most part, on the total number of plays the track has had and how recent those plays are. Generally speaking, songs that are being played a lot now will have a higher popularity than songs that were played a lot in the past. Duplicate tracks (e.g., the same track from a single and an album) are rated independently. Artist and album popularity is derived mathematically from track popularity.\n",
    "- **Speechiness:** Detects the presence of spoken words in a track. The more exclusively speech-like the recording (e.g., talk show, audio book, poetry), the closer to 1.0 the attribute value. Values above 0.66 describe tracks that are probably made entirely of spoken words. Values between 0.33 and 0.66 describe tracks that may contain both music and speech, either in sections or layered, including such cases as rap music. Values below 0.33 most likely represent music and other non-speech-like tracks.\n",
    "- **Valence:** A measure from 0.0 to 1.0 describing the musical positiveness conveyed by a track. Tracks with high valence sound more positive (e.g., happy, cheerful, euphoric), while tracks with low valence sound more negative (e.g., sad, depressed, angry)."
   ]
  },
  {
   "cell_type": "code",
   "execution_count": 2,
   "metadata": {},
   "outputs": [
    {
     "data": {
      "text/html": [
       "<div>\n",
       "<style scoped>\n",
       "    .dataframe tbody tr th:only-of-type {\n",
       "        vertical-align: middle;\n",
       "    }\n",
       "\n",
       "    .dataframe tbody tr th {\n",
       "        vertical-align: top;\n",
       "    }\n",
       "\n",
       "    .dataframe thead th {\n",
       "        text-align: right;\n",
       "    }\n",
       "</style>\n",
       "<table border=\"1\" class=\"dataframe\">\n",
       "  <thead>\n",
       "    <tr style=\"text-align: right;\">\n",
       "      <th></th>\n",
       "      <th>valence</th>\n",
       "      <th>year</th>\n",
       "      <th>acousticness</th>\n",
       "      <th>artists</th>\n",
       "      <th>danceability</th>\n",
       "      <th>duration_ms</th>\n",
       "      <th>energy</th>\n",
       "      <th>explicit</th>\n",
       "      <th>id</th>\n",
       "      <th>instrumentalness</th>\n",
       "      <th>key</th>\n",
       "      <th>liveness</th>\n",
       "      <th>loudness</th>\n",
       "      <th>mode</th>\n",
       "      <th>name</th>\n",
       "      <th>popularity</th>\n",
       "      <th>release_date</th>\n",
       "      <th>speechiness</th>\n",
       "      <th>tempo</th>\n",
       "    </tr>\n",
       "  </thead>\n",
       "  <tbody>\n",
       "    <tr>\n",
       "      <th>0</th>\n",
       "      <td>0.0594</td>\n",
       "      <td>1921</td>\n",
       "      <td>0.982</td>\n",
       "      <td>['Sergei Rachmaninoff', 'James Levine', 'Berli...</td>\n",
       "      <td>0.279</td>\n",
       "      <td>831667</td>\n",
       "      <td>0.211</td>\n",
       "      <td>0</td>\n",
       "      <td>4BJqT0PrAfrxzMOxytFOIz</td>\n",
       "      <td>0.878000</td>\n",
       "      <td>10</td>\n",
       "      <td>0.665</td>\n",
       "      <td>-20.096</td>\n",
       "      <td>1</td>\n",
       "      <td>Piano Concerto No. 3 in D Minor, Op. 30: III. ...</td>\n",
       "      <td>4</td>\n",
       "      <td>1921</td>\n",
       "      <td>0.0366</td>\n",
       "      <td>80.954</td>\n",
       "    </tr>\n",
       "    <tr>\n",
       "      <th>1</th>\n",
       "      <td>0.9630</td>\n",
       "      <td>1921</td>\n",
       "      <td>0.732</td>\n",
       "      <td>['Dennis Day']</td>\n",
       "      <td>0.819</td>\n",
       "      <td>180533</td>\n",
       "      <td>0.341</td>\n",
       "      <td>0</td>\n",
       "      <td>7xPhfUan2yNtyFG0cUWkt8</td>\n",
       "      <td>0.000000</td>\n",
       "      <td>7</td>\n",
       "      <td>0.160</td>\n",
       "      <td>-12.441</td>\n",
       "      <td>1</td>\n",
       "      <td>Clancy Lowered the Boom</td>\n",
       "      <td>5</td>\n",
       "      <td>1921</td>\n",
       "      <td>0.4150</td>\n",
       "      <td>60.936</td>\n",
       "    </tr>\n",
       "    <tr>\n",
       "      <th>2</th>\n",
       "      <td>0.0394</td>\n",
       "      <td>1921</td>\n",
       "      <td>0.961</td>\n",
       "      <td>['KHP Kridhamardawa Karaton Ngayogyakarta Hadi...</td>\n",
       "      <td>0.328</td>\n",
       "      <td>500062</td>\n",
       "      <td>0.166</td>\n",
       "      <td>0</td>\n",
       "      <td>1o6I8BglA6ylDMrIELygv1</td>\n",
       "      <td>0.913000</td>\n",
       "      <td>3</td>\n",
       "      <td>0.101</td>\n",
       "      <td>-14.850</td>\n",
       "      <td>1</td>\n",
       "      <td>Gati Bali</td>\n",
       "      <td>5</td>\n",
       "      <td>1921</td>\n",
       "      <td>0.0339</td>\n",
       "      <td>110.339</td>\n",
       "    </tr>\n",
       "    <tr>\n",
       "      <th>3</th>\n",
       "      <td>0.1650</td>\n",
       "      <td>1921</td>\n",
       "      <td>0.967</td>\n",
       "      <td>['Frank Parker']</td>\n",
       "      <td>0.275</td>\n",
       "      <td>210000</td>\n",
       "      <td>0.309</td>\n",
       "      <td>0</td>\n",
       "      <td>3ftBPsC5vPBKxYSee08FDH</td>\n",
       "      <td>0.000028</td>\n",
       "      <td>5</td>\n",
       "      <td>0.381</td>\n",
       "      <td>-9.316</td>\n",
       "      <td>1</td>\n",
       "      <td>Danny Boy</td>\n",
       "      <td>3</td>\n",
       "      <td>1921</td>\n",
       "      <td>0.0354</td>\n",
       "      <td>100.109</td>\n",
       "    </tr>\n",
       "    <tr>\n",
       "      <th>4</th>\n",
       "      <td>0.2530</td>\n",
       "      <td>1921</td>\n",
       "      <td>0.957</td>\n",
       "      <td>['Phil Regan']</td>\n",
       "      <td>0.418</td>\n",
       "      <td>166693</td>\n",
       "      <td>0.193</td>\n",
       "      <td>0</td>\n",
       "      <td>4d6HGyGT8e121BsdKmw9v6</td>\n",
       "      <td>0.000002</td>\n",
       "      <td>3</td>\n",
       "      <td>0.229</td>\n",
       "      <td>-10.096</td>\n",
       "      <td>1</td>\n",
       "      <td>When Irish Eyes Are Smiling</td>\n",
       "      <td>2</td>\n",
       "      <td>1921</td>\n",
       "      <td>0.0380</td>\n",
       "      <td>101.665</td>\n",
       "    </tr>\n",
       "  </tbody>\n",
       "</table>\n",
       "</div>"
      ],
      "text/plain": [
       "   valence  year  acousticness  \\\n",
       "0   0.0594  1921         0.982   \n",
       "1   0.9630  1921         0.732   \n",
       "2   0.0394  1921         0.961   \n",
       "3   0.1650  1921         0.967   \n",
       "4   0.2530  1921         0.957   \n",
       "\n",
       "                                             artists  danceability  \\\n",
       "0  ['Sergei Rachmaninoff', 'James Levine', 'Berli...         0.279   \n",
       "1                                     ['Dennis Day']         0.819   \n",
       "2  ['KHP Kridhamardawa Karaton Ngayogyakarta Hadi...         0.328   \n",
       "3                                   ['Frank Parker']         0.275   \n",
       "4                                     ['Phil Regan']         0.418   \n",
       "\n",
       "   duration_ms  energy  explicit                      id  instrumentalness  \\\n",
       "0       831667   0.211         0  4BJqT0PrAfrxzMOxytFOIz          0.878000   \n",
       "1       180533   0.341         0  7xPhfUan2yNtyFG0cUWkt8          0.000000   \n",
       "2       500062   0.166         0  1o6I8BglA6ylDMrIELygv1          0.913000   \n",
       "3       210000   0.309         0  3ftBPsC5vPBKxYSee08FDH          0.000028   \n",
       "4       166693   0.193         0  4d6HGyGT8e121BsdKmw9v6          0.000002   \n",
       "\n",
       "   key  liveness  loudness  mode  \\\n",
       "0   10     0.665   -20.096     1   \n",
       "1    7     0.160   -12.441     1   \n",
       "2    3     0.101   -14.850     1   \n",
       "3    5     0.381    -9.316     1   \n",
       "4    3     0.229   -10.096     1   \n",
       "\n",
       "                                                name  popularity release_date  \\\n",
       "0  Piano Concerto No. 3 in D Minor, Op. 30: III. ...           4         1921   \n",
       "1                            Clancy Lowered the Boom           5         1921   \n",
       "2                                          Gati Bali           5         1921   \n",
       "3                                          Danny Boy           3         1921   \n",
       "4                        When Irish Eyes Are Smiling           2         1921   \n",
       "\n",
       "   speechiness    tempo  \n",
       "0       0.0366   80.954  \n",
       "1       0.4150   60.936  \n",
       "2       0.0339  110.339  \n",
       "3       0.0354  100.109  \n",
       "4       0.0380  101.665  "
      ]
     },
     "execution_count": 2,
     "metadata": {},
     "output_type": "execute_result"
    }
   ],
   "source": [
    "df = pd.read_csv('../data_raw/kg_spotify_master_data.csv')\n",
    "df.head()"
   ]
  },
  {
   "cell_type": "code",
   "execution_count": 3,
   "metadata": {},
   "outputs": [
    {
     "data": {
      "text/html": [
       "<div>\n",
       "<style scoped>\n",
       "    .dataframe tbody tr th:only-of-type {\n",
       "        vertical-align: middle;\n",
       "    }\n",
       "\n",
       "    .dataframe tbody tr th {\n",
       "        vertical-align: top;\n",
       "    }\n",
       "\n",
       "    .dataframe thead th {\n",
       "        text-align: right;\n",
       "    }\n",
       "</style>\n",
       "<table border=\"1\" class=\"dataframe\">\n",
       "  <thead>\n",
       "    <tr style=\"text-align: right;\">\n",
       "      <th></th>\n",
       "      <th>valence</th>\n",
       "      <th>year</th>\n",
       "      <th>acousticness</th>\n",
       "      <th>artists</th>\n",
       "      <th>danceability</th>\n",
       "      <th>duration_ms</th>\n",
       "      <th>energy</th>\n",
       "      <th>explicit</th>\n",
       "      <th>id</th>\n",
       "      <th>instrumentalness</th>\n",
       "      <th>key</th>\n",
       "      <th>liveness</th>\n",
       "      <th>loudness</th>\n",
       "      <th>mode</th>\n",
       "      <th>name</th>\n",
       "      <th>popularity</th>\n",
       "      <th>release_date</th>\n",
       "      <th>speechiness</th>\n",
       "      <th>tempo</th>\n",
       "    </tr>\n",
       "  </thead>\n",
       "  <tbody>\n",
       "    <tr>\n",
       "      <th>170648</th>\n",
       "      <td>0.608</td>\n",
       "      <td>2020</td>\n",
       "      <td>0.08460</td>\n",
       "      <td>['Anuel AA', 'Daddy Yankee', 'KAROL G', 'Ozuna...</td>\n",
       "      <td>0.786</td>\n",
       "      <td>301714</td>\n",
       "      <td>0.808</td>\n",
       "      <td>0</td>\n",
       "      <td>0KkIkfsLEJbrcIhYsCL7L5</td>\n",
       "      <td>0.000289</td>\n",
       "      <td>7</td>\n",
       "      <td>0.0822</td>\n",
       "      <td>-3.702</td>\n",
       "      <td>1</td>\n",
       "      <td>China</td>\n",
       "      <td>72</td>\n",
       "      <td>2020-05-29</td>\n",
       "      <td>0.0881</td>\n",
       "      <td>105.029</td>\n",
       "    </tr>\n",
       "    <tr>\n",
       "      <th>170649</th>\n",
       "      <td>0.734</td>\n",
       "      <td>2020</td>\n",
       "      <td>0.20600</td>\n",
       "      <td>['Ashnikko']</td>\n",
       "      <td>0.717</td>\n",
       "      <td>150654</td>\n",
       "      <td>0.753</td>\n",
       "      <td>0</td>\n",
       "      <td>0OStKKAuXlxA0fMH54Qs6E</td>\n",
       "      <td>0.000000</td>\n",
       "      <td>7</td>\n",
       "      <td>0.1010</td>\n",
       "      <td>-6.020</td>\n",
       "      <td>1</td>\n",
       "      <td>Halloweenie III: Seven Days</td>\n",
       "      <td>68</td>\n",
       "      <td>2020-10-23</td>\n",
       "      <td>0.0605</td>\n",
       "      <td>137.936</td>\n",
       "    </tr>\n",
       "    <tr>\n",
       "      <th>170650</th>\n",
       "      <td>0.637</td>\n",
       "      <td>2020</td>\n",
       "      <td>0.10100</td>\n",
       "      <td>['MAMAMOO']</td>\n",
       "      <td>0.634</td>\n",
       "      <td>211280</td>\n",
       "      <td>0.858</td>\n",
       "      <td>0</td>\n",
       "      <td>4BZXVFYCb76Q0Klojq4piV</td>\n",
       "      <td>0.000009</td>\n",
       "      <td>4</td>\n",
       "      <td>0.2580</td>\n",
       "      <td>-2.226</td>\n",
       "      <td>0</td>\n",
       "      <td>AYA</td>\n",
       "      <td>76</td>\n",
       "      <td>2020-11-03</td>\n",
       "      <td>0.0809</td>\n",
       "      <td>91.688</td>\n",
       "    </tr>\n",
       "    <tr>\n",
       "      <th>170651</th>\n",
       "      <td>0.195</td>\n",
       "      <td>2020</td>\n",
       "      <td>0.00998</td>\n",
       "      <td>['Eminem']</td>\n",
       "      <td>0.671</td>\n",
       "      <td>337147</td>\n",
       "      <td>0.623</td>\n",
       "      <td>1</td>\n",
       "      <td>5SiZJoLXp3WOl3J4C8IK0d</td>\n",
       "      <td>0.000008</td>\n",
       "      <td>2</td>\n",
       "      <td>0.6430</td>\n",
       "      <td>-7.161</td>\n",
       "      <td>1</td>\n",
       "      <td>Darkness</td>\n",
       "      <td>70</td>\n",
       "      <td>2020-01-17</td>\n",
       "      <td>0.3080</td>\n",
       "      <td>75.055</td>\n",
       "    </tr>\n",
       "    <tr>\n",
       "      <th>170652</th>\n",
       "      <td>0.642</td>\n",
       "      <td>2020</td>\n",
       "      <td>0.13200</td>\n",
       "      <td>['KEVVO', 'J Balvin']</td>\n",
       "      <td>0.856</td>\n",
       "      <td>189507</td>\n",
       "      <td>0.721</td>\n",
       "      <td>1</td>\n",
       "      <td>7HmnJHfs0BkFzX4x8j0hkl</td>\n",
       "      <td>0.004710</td>\n",
       "      <td>7</td>\n",
       "      <td>0.1820</td>\n",
       "      <td>-4.928</td>\n",
       "      <td>1</td>\n",
       "      <td>Billetes Azules (with J Balvin)</td>\n",
       "      <td>74</td>\n",
       "      <td>2020-10-16</td>\n",
       "      <td>0.1080</td>\n",
       "      <td>94.991</td>\n",
       "    </tr>\n",
       "  </tbody>\n",
       "</table>\n",
       "</div>"
      ],
      "text/plain": [
       "        valence  year  acousticness  \\\n",
       "170648    0.608  2020       0.08460   \n",
       "170649    0.734  2020       0.20600   \n",
       "170650    0.637  2020       0.10100   \n",
       "170651    0.195  2020       0.00998   \n",
       "170652    0.642  2020       0.13200   \n",
       "\n",
       "                                                  artists  danceability  \\\n",
       "170648  ['Anuel AA', 'Daddy Yankee', 'KAROL G', 'Ozuna...         0.786   \n",
       "170649                                       ['Ashnikko']         0.717   \n",
       "170650                                        ['MAMAMOO']         0.634   \n",
       "170651                                         ['Eminem']         0.671   \n",
       "170652                              ['KEVVO', 'J Balvin']         0.856   \n",
       "\n",
       "        duration_ms  energy  explicit                      id  \\\n",
       "170648       301714   0.808         0  0KkIkfsLEJbrcIhYsCL7L5   \n",
       "170649       150654   0.753         0  0OStKKAuXlxA0fMH54Qs6E   \n",
       "170650       211280   0.858         0  4BZXVFYCb76Q0Klojq4piV   \n",
       "170651       337147   0.623         1  5SiZJoLXp3WOl3J4C8IK0d   \n",
       "170652       189507   0.721         1  7HmnJHfs0BkFzX4x8j0hkl   \n",
       "\n",
       "        instrumentalness  key  liveness  loudness  mode  \\\n",
       "170648          0.000289    7    0.0822    -3.702     1   \n",
       "170649          0.000000    7    0.1010    -6.020     1   \n",
       "170650          0.000009    4    0.2580    -2.226     0   \n",
       "170651          0.000008    2    0.6430    -7.161     1   \n",
       "170652          0.004710    7    0.1820    -4.928     1   \n",
       "\n",
       "                                   name  popularity release_date  speechiness  \\\n",
       "170648                            China          72   2020-05-29       0.0881   \n",
       "170649      Halloweenie III: Seven Days          68   2020-10-23       0.0605   \n",
       "170650                              AYA          76   2020-11-03       0.0809   \n",
       "170651                         Darkness          70   2020-01-17       0.3080   \n",
       "170652  Billetes Azules (with J Balvin)          74   2020-10-16       0.1080   \n",
       "\n",
       "          tempo  \n",
       "170648  105.029  \n",
       "170649  137.936  \n",
       "170650   91.688  \n",
       "170651   75.055  \n",
       "170652   94.991  "
      ]
     },
     "execution_count": 3,
     "metadata": {},
     "output_type": "execute_result"
    }
   ],
   "source": [
    "df.tail()"
   ]
  },
  {
   "cell_type": "code",
   "execution_count": 4,
   "metadata": {},
   "outputs": [
    {
     "data": {
      "text/plain": [
       "(170653, 19)"
      ]
     },
     "execution_count": 4,
     "metadata": {},
     "output_type": "execute_result"
    }
   ],
   "source": [
    "df.shape"
   ]
  },
  {
   "cell_type": "code",
   "execution_count": 5,
   "metadata": {},
   "outputs": [
    {
     "name": "stdout",
     "output_type": "stream",
     "text": [
      "<class 'pandas.core.frame.DataFrame'>\n",
      "RangeIndex: 170653 entries, 0 to 170652\n",
      "Data columns (total 19 columns):\n",
      " #   Column            Non-Null Count   Dtype  \n",
      "---  ------            --------------   -----  \n",
      " 0   valence           170653 non-null  float64\n",
      " 1   year              170653 non-null  int64  \n",
      " 2   acousticness      170653 non-null  float64\n",
      " 3   artists           170653 non-null  object \n",
      " 4   danceability      170653 non-null  float64\n",
      " 5   duration_ms       170653 non-null  int64  \n",
      " 6   energy            170653 non-null  float64\n",
      " 7   explicit          170653 non-null  int64  \n",
      " 8   id                170653 non-null  object \n",
      " 9   instrumentalness  170653 non-null  float64\n",
      " 10  key               170653 non-null  int64  \n",
      " 11  liveness          170653 non-null  float64\n",
      " 12  loudness          170653 non-null  float64\n",
      " 13  mode              170653 non-null  int64  \n",
      " 14  name              170653 non-null  object \n",
      " 15  popularity        170653 non-null  int64  \n",
      " 16  release_date      170653 non-null  object \n",
      " 17  speechiness       170653 non-null  float64\n",
      " 18  tempo             170653 non-null  float64\n",
      "dtypes: float64(9), int64(6), object(4)\n",
      "memory usage: 24.7+ MB\n"
     ]
    }
   ],
   "source": [
    "df.info()"
   ]
  },
  {
   "cell_type": "code",
   "execution_count": 6,
   "metadata": {},
   "outputs": [],
   "source": [
    "# Dropping the \"explicit\" column, as this won't be relevant for audio analysis\n",
    "df.drop(columns='explicit', inplace=True)"
   ]
  },
  {
   "cell_type": "code",
   "execution_count": 7,
   "metadata": {},
   "outputs": [],
   "source": [
    "# According to Spotify, \"liveness\" predicts whether or not the track was recorded as part of a live show.\n",
    "# Spotify's algorithm looks for audience noise in the track to make these predictions. A value > 0.8 suggests the track is a live recording.\n",
    "# Here, isolating and dropping assumed \"live\" recordings, as their sonic qualities usually differ quite a bit from studio-recorded music.\n",
    "df = df[(df['liveness'] <= 0.8)]"
   ]
  },
  {
   "cell_type": "code",
   "execution_count": 8,
   "metadata": {},
   "outputs": [
    {
     "data": {
      "text/plain": [
       "(167244, 18)"
      ]
     },
     "execution_count": 8,
     "metadata": {},
     "output_type": "execute_result"
    }
   ],
   "source": [
    "df.shape"
   ]
  },
  {
   "cell_type": "code",
   "execution_count": 9,
   "metadata": {},
   "outputs": [
    {
     "data": {
      "text/plain": [
       "Index(['valence', 'year', 'acousticness', 'artists', 'danceability',\n",
       "       'duration_ms', 'energy', 'id', 'instrumentalness', 'key', 'liveness',\n",
       "       'loudness', 'mode', 'name', 'popularity', 'release_date', 'speechiness',\n",
       "       'tempo'],\n",
       "      dtype='object')"
      ]
     },
     "execution_count": 9,
     "metadata": {},
     "output_type": "execute_result"
    }
   ],
   "source": [
    "df.columns"
   ]
  },
  {
   "cell_type": "markdown",
   "metadata": {},
   "source": [
    "**BELOW:** Some songs have duplicate entries in the dataframe. Some reasons duplicates can legitimately occur include cover versions by other artists, *single* and *album* versions of the same song, different songs with the same name, and often with orchestral music, different recordings of the same piece by different ensembles.\n",
    "\n",
    "However, I want to be sure not to include any duplicate songs that actually have identical data. Below, I'm using a simple `drop_duplicates()` method, factoring out the song's `id` (this is always unique on Spotify). I'll also investigate the other potentially problematic duplicate case, in which there are album and single versions of a song that are very similar, but don't have identical metrics. This can happen because of the way albums are formatted versus the way singles are formatted."
   ]
  },
  {
   "cell_type": "code",
   "execution_count": 10,
   "metadata": {},
   "outputs": [],
   "source": [
    "# Defining the subset of columns I'll pass into drop_duplicates()\n",
    "no_id = ['name', 'artists', 'tempo', 'key', 'loudness', 'mode', 'duration_ms', 'energy', 'instrumentalness', 'speechiness', \n",
    "         'acousticness', 'danceability', 'valence', 'popularity', 'liveness', 'year', 'release_date']\n",
    "\n",
    "df.drop_duplicates(subset=no_id, inplace=True)"
   ]
  },
  {
   "cell_type": "code",
   "execution_count": 11,
   "metadata": {},
   "outputs": [
    {
     "data": {
      "text/plain": [
       "(166706, 18)"
      ]
     },
     "execution_count": 11,
     "metadata": {},
     "output_type": "execute_result"
    }
   ],
   "source": [
    "df.shape"
   ]
  },
  {
   "cell_type": "code",
   "execution_count": null,
   "metadata": {},
   "outputs": [],
   "source": []
  },
  {
   "cell_type": "code",
   "execution_count": 12,
   "metadata": {},
   "outputs": [],
   "source": [
    "# Viewing duplicate song titles\n",
    "#pd.concat(n for _, n in df.groupby('name') if len(n) > 1)"
   ]
  },
  {
   "cell_type": "code",
   "execution_count": null,
   "metadata": {},
   "outputs": [],
   "source": []
  },
  {
   "cell_type": "markdown",
   "metadata": {},
   "source": [
    "---"
   ]
  },
  {
   "cell_type": "markdown",
   "metadata": {},
   "source": [
    "**BELOW**: Rounding `tempo` values to the nearest single decimal place. A few notes on this choice, and on tempo in general:\n",
    "1. `tempo` is measured in beats per minute, and is generally expressed in integer values in the music world.\n",
    "2. The decimal places exist in the original dataframe because the `tempo` metric is averaged for the entire song. Many songs recorded before the advent of digital recording and *click tracks* (a regular, metronomic pulse musicians hear in their headphones when recording to keep a steady pace) do not have a consistent tempo, due to natural human error in timing. \n",
    "3. Some old songs have also been altered by the idiosyncrasies of analog recording - an improperly aligned tape machine can cause small tempo fluctuations on playback, or when transferred to a new tape reel during the mastering process.\n",
    "4. Ambient, orchestral, purely acoustic, purely vocal, and other such pieces without a strong pulse can also \"trick\" Spotify's tempo algorithm. Computers are largely able to infer tempo based on regular pulses (often in the attack sounds of drums and other rhythm instruments, known as *transients*) that machine learning algorithms can use as something like anchor points. Measuring the temporal distance between these \"anchors\" ideally yields a tempo."
   ]
  },
  {
   "cell_type": "code",
   "execution_count": 13,
   "metadata": {},
   "outputs": [],
   "source": [
    "# Rounding \"tempo\" to a single decimal place\n",
    "df['tempo'] = round(df['tempo'], 1)"
   ]
  },
  {
   "cell_type": "code",
   "execution_count": 14,
   "metadata": {},
   "outputs": [
    {
     "data": {
      "text/plain": [
       "120.0    916\n",
       "130.0    702\n",
       "128.0    699\n",
       "100.0    685\n",
       "140.0    651\n",
       "        ... \n",
       "38.3       1\n",
       "214.1      1\n",
       "44.8       1\n",
       "44.7       1\n",
       "38.0       1\n",
       "Name: tempo, Length: 1776, dtype: int64"
      ]
     },
     "execution_count": 14,
     "metadata": {},
     "output_type": "execute_result"
    }
   ],
   "source": [
    "df['tempo'].value_counts()"
   ]
  },
  {
   "cell_type": "markdown",
   "metadata": {},
   "source": [
    "As mentioned **above**, age can drastically affect an audio recording. In the early half of the 20th century, and especially in the 1920s and 1930s, recording technology was still very much in the process of maturing. The full frequency range of human hearing (20Hz to 20kHz) wasn't reproduceable with the microphones and media of the time, and additional noise, often in the form of white noise or electrical hum, was clearly audible. With this in mind, I'm going to drop entries for songs recorded prior to 1940, as they tend to suffer the most prominently from these issues. The excessive noise and poor sound reproduction of many of these recordings are likely to skew their metrics."
   ]
  },
  {
   "cell_type": "code",
   "execution_count": 15,
   "metadata": {},
   "outputs": [
    {
     "data": {
      "text/plain": [
       "2018    2090\n",
       "2010    1989\n",
       "2020    1988\n",
       "1967    1980\n",
       "2014    1980\n",
       "        ... \n",
       "1925     268\n",
       "1924     233\n",
       "1923     182\n",
       "1921     150\n",
       "1922      68\n",
       "Name: year, Length: 100, dtype: int64"
      ]
     },
     "execution_count": 15,
     "metadata": {},
     "output_type": "execute_result"
    }
   ],
   "source": [
    "df['year'].value_counts()"
   ]
  },
  {
   "cell_type": "code",
   "execution_count": 16,
   "metadata": {},
   "outputs": [],
   "source": [
    "df = df[(df['year'] >= 1940)]"
   ]
  },
  {
   "cell_type": "markdown",
   "metadata": {},
   "source": [
    "---"
   ]
  },
  {
   "cell_type": "code",
   "execution_count": 17,
   "metadata": {},
   "outputs": [
    {
     "data": {
      "text/html": [
       "<div>\n",
       "<style scoped>\n",
       "    .dataframe tbody tr th:only-of-type {\n",
       "        vertical-align: middle;\n",
       "    }\n",
       "\n",
       "    .dataframe tbody tr th {\n",
       "        vertical-align: top;\n",
       "    }\n",
       "\n",
       "    .dataframe thead th {\n",
       "        text-align: right;\n",
       "    }\n",
       "</style>\n",
       "<table border=\"1\" class=\"dataframe\">\n",
       "  <thead>\n",
       "    <tr style=\"text-align: right;\">\n",
       "      <th></th>\n",
       "      <th>valence</th>\n",
       "      <th>year</th>\n",
       "      <th>acousticness</th>\n",
       "      <th>artists</th>\n",
       "      <th>danceability</th>\n",
       "      <th>duration_ms</th>\n",
       "      <th>energy</th>\n",
       "      <th>id</th>\n",
       "      <th>instrumentalness</th>\n",
       "      <th>key</th>\n",
       "      <th>liveness</th>\n",
       "      <th>loudness</th>\n",
       "      <th>mode</th>\n",
       "      <th>name</th>\n",
       "      <th>popularity</th>\n",
       "      <th>release_date</th>\n",
       "      <th>speechiness</th>\n",
       "      <th>tempo</th>\n",
       "    </tr>\n",
       "  </thead>\n",
       "  <tbody>\n",
       "  </tbody>\n",
       "</table>\n",
       "</div>"
      ],
      "text/plain": [
       "Empty DataFrame\n",
       "Columns: [valence, year, acousticness, artists, danceability, duration_ms, energy, id, instrumentalness, key, liveness, loudness, mode, name, popularity, release_date, speechiness, tempo]\n",
       "Index: []"
      ]
     },
     "execution_count": 17,
     "metadata": {},
     "output_type": "execute_result"
    }
   ],
   "source": [
    "# Modality (here defined as 0 for a minor key, 1 for a major key)\n",
    "# Checking for entries where \"mode\" is equal to -1. This is the equivalent of a null or non-conclusive analysis.\n",
    "# None found\n",
    "df[df['mode'] == -1]"
   ]
  },
  {
   "cell_type": "code",
   "execution_count": 18,
   "metadata": {},
   "outputs": [
    {
     "data": {
      "text/html": [
       "<div>\n",
       "<style scoped>\n",
       "    .dataframe tbody tr th:only-of-type {\n",
       "        vertical-align: middle;\n",
       "    }\n",
       "\n",
       "    .dataframe tbody tr th {\n",
       "        vertical-align: top;\n",
       "    }\n",
       "\n",
       "    .dataframe thead th {\n",
       "        text-align: right;\n",
       "    }\n",
       "</style>\n",
       "<table border=\"1\" class=\"dataframe\">\n",
       "  <thead>\n",
       "    <tr style=\"text-align: right;\">\n",
       "      <th></th>\n",
       "      <th>valence</th>\n",
       "      <th>year</th>\n",
       "      <th>acousticness</th>\n",
       "      <th>artists</th>\n",
       "      <th>danceability</th>\n",
       "      <th>duration_ms</th>\n",
       "      <th>energy</th>\n",
       "      <th>id</th>\n",
       "      <th>instrumentalness</th>\n",
       "      <th>key</th>\n",
       "      <th>liveness</th>\n",
       "      <th>loudness</th>\n",
       "      <th>mode</th>\n",
       "      <th>name</th>\n",
       "      <th>popularity</th>\n",
       "      <th>release_date</th>\n",
       "      <th>speechiness</th>\n",
       "      <th>tempo</th>\n",
       "    </tr>\n",
       "  </thead>\n",
       "  <tbody>\n",
       "  </tbody>\n",
       "</table>\n",
       "</div>"
      ],
      "text/plain": [
       "Empty DataFrame\n",
       "Columns: [valence, year, acousticness, artists, danceability, duration_ms, energy, id, instrumentalness, key, liveness, loudness, mode, name, popularity, release_date, speechiness, tempo]\n",
       "Index: []"
      ]
     },
     "execution_count": 18,
     "metadata": {},
     "output_type": "execute_result"
    }
   ],
   "source": [
    "# Key (here defined as 0-11, where 0 represents C, and keys increase chromatically with integer)\n",
    "# Checking for entries where \"key\" is equal to -1. This is the equivalent of a null or non-conclusive analysis.\n",
    "# None found\n",
    "df[df['key'] == -1]"
   ]
  },
  {
   "cell_type": "code",
   "execution_count": 19,
   "metadata": {},
   "outputs": [
    {
     "data": {
      "text/plain": [
       "2018    2090\n",
       "2010    1989\n",
       "2020    1988\n",
       "2014    1980\n",
       "1967    1980\n",
       "        ... \n",
       "1942    1631\n",
       "1947    1618\n",
       "1941     922\n",
       "1944     737\n",
       "1943     687\n",
       "Name: year, Length: 81, dtype: int64"
      ]
     },
     "execution_count": 19,
     "metadata": {},
     "output_type": "execute_result"
    }
   ],
   "source": [
    "df['year'].value_counts()"
   ]
  },
  {
   "cell_type": "code",
   "execution_count": 20,
   "metadata": {},
   "outputs": [],
   "source": [
    "# Engineering a feature for \"full_key\", which contains the letter representing the key's fundamental pitch, and the modality,\n",
    "# representing whether the key is major or minor.\n",
    "df['key_letter'] = df['key'].map({0: 'C', 1: 'C#', 2: 'D', 3: 'D#', 4: 'E', 5: 'F', 6: 'F#', 7: 'G', 8: 'G#', 9: 'A', 10: 'A#', 11: 'B'})\n",
    "df['maj_min'] = df['mode'].map({0: 'minor', 1: 'major'})\n",
    "\n",
    "df['full_key'] = df['key_letter'] + ' ' + df['maj_min']"
   ]
  },
  {
   "cell_type": "code",
   "execution_count": 21,
   "metadata": {},
   "outputs": [],
   "source": [
    "# Dropping columns engineered to make \"full_key\", as they're no longer necessary.\n",
    "df.drop(columns=['key_letter', 'maj_min'], inplace=True)"
   ]
  },
  {
   "cell_type": "markdown",
   "metadata": {},
   "source": [
    "---"
   ]
  },
  {
   "cell_type": "code",
   "execution_count": 22,
   "metadata": {},
   "outputs": [],
   "source": [
    "# Reordering columns\n",
    "df = df[['name', 'artists', 'tempo', 'key', 'mode', 'full_key', 'loudness', 'duration_ms', 'energy', 'instrumentalness', 'speechiness', \n",
    "         'acousticness', 'danceability', 'valence', 'popularity', 'liveness', 'year', 'release_date', 'id']]"
   ]
  },
  {
   "cell_type": "code",
   "execution_count": 23,
   "metadata": {},
   "outputs": [
    {
     "data": {
      "text/html": [
       "<div>\n",
       "<style scoped>\n",
       "    .dataframe tbody tr th:only-of-type {\n",
       "        vertical-align: middle;\n",
       "    }\n",
       "\n",
       "    .dataframe tbody tr th {\n",
       "        vertical-align: top;\n",
       "    }\n",
       "\n",
       "    .dataframe thead th {\n",
       "        text-align: right;\n",
       "    }\n",
       "</style>\n",
       "<table border=\"1\" class=\"dataframe\">\n",
       "  <thead>\n",
       "    <tr style=\"text-align: right;\">\n",
       "      <th></th>\n",
       "      <th>name</th>\n",
       "      <th>artists</th>\n",
       "      <th>tempo</th>\n",
       "      <th>key</th>\n",
       "      <th>mode</th>\n",
       "      <th>full_key</th>\n",
       "      <th>loudness</th>\n",
       "      <th>duration_ms</th>\n",
       "      <th>energy</th>\n",
       "      <th>instrumentalness</th>\n",
       "      <th>speechiness</th>\n",
       "      <th>acousticness</th>\n",
       "      <th>danceability</th>\n",
       "      <th>valence</th>\n",
       "      <th>popularity</th>\n",
       "      <th>liveness</th>\n",
       "      <th>year</th>\n",
       "      <th>release_date</th>\n",
       "      <th>id</th>\n",
       "    </tr>\n",
       "  </thead>\n",
       "  <tbody>\n",
       "    <tr>\n",
       "      <th>3606</th>\n",
       "      <td>Main Title - Gone With the Wind</td>\n",
       "      <td>['Max Steiner']</td>\n",
       "      <td>121.8</td>\n",
       "      <td>5</td>\n",
       "      <td>1</td>\n",
       "      <td>F major</td>\n",
       "      <td>-8.326</td>\n",
       "      <td>246773</td>\n",
       "      <td>0.430</td>\n",
       "      <td>0.854000</td>\n",
       "      <td>0.0357</td>\n",
       "      <td>0.680</td>\n",
       "      <td>0.170</td>\n",
       "      <td>0.171</td>\n",
       "      <td>33</td>\n",
       "      <td>0.459</td>\n",
       "      <td>1940</td>\n",
       "      <td>1940-01-17</td>\n",
       "      <td>6kucJsz2GR6oN8glzqGdTh</td>\n",
       "    </tr>\n",
       "    <tr>\n",
       "      <th>3607</th>\n",
       "      <td>Let's Do It (with Eddie Heywood &amp; His Orchestr...</td>\n",
       "      <td>['Billie Holiday', 'Eddie Heywood']</td>\n",
       "      <td>142.3</td>\n",
       "      <td>5</td>\n",
       "      <td>0</td>\n",
       "      <td>F minor</td>\n",
       "      <td>-14.450</td>\n",
       "      <td>175893</td>\n",
       "      <td>0.182</td>\n",
       "      <td>0.000171</td>\n",
       "      <td>0.0537</td>\n",
       "      <td>0.983</td>\n",
       "      <td>0.543</td>\n",
       "      <td>0.597</td>\n",
       "      <td>23</td>\n",
       "      <td>0.258</td>\n",
       "      <td>1940</td>\n",
       "      <td>1940</td>\n",
       "      <td>3LKwoKXJBpWBSKID58IgYw</td>\n",
       "    </tr>\n",
       "    <tr>\n",
       "      <th>3608</th>\n",
       "      <td>9:20 Special</td>\n",
       "      <td>['Count Basie']</td>\n",
       "      <td>198.7</td>\n",
       "      <td>2</td>\n",
       "      <td>0</td>\n",
       "      <td>D minor</td>\n",
       "      <td>-14.557</td>\n",
       "      <td>187400</td>\n",
       "      <td>0.333</td>\n",
       "      <td>0.089200</td>\n",
       "      <td>0.1010</td>\n",
       "      <td>0.871</td>\n",
       "      <td>0.513</td>\n",
       "      <td>0.876</td>\n",
       "      <td>27</td>\n",
       "      <td>0.297</td>\n",
       "      <td>1940</td>\n",
       "      <td>1940</td>\n",
       "      <td>1GoA6bkY0rZsc7aAHGlfl5</td>\n",
       "    </tr>\n",
       "    <tr>\n",
       "      <th>3609</th>\n",
       "      <td>Seven Come Eleven (feat. Benny Goodman &amp; Charl...</td>\n",
       "      <td>['Benny Goodman Sextet', 'Benny Goodman', 'Cha...</td>\n",
       "      <td>115.7</td>\n",
       "      <td>1</td>\n",
       "      <td>1</td>\n",
       "      <td>C# major</td>\n",
       "      <td>-6.975</td>\n",
       "      <td>165800</td>\n",
       "      <td>0.720</td>\n",
       "      <td>0.016000</td>\n",
       "      <td>0.0292</td>\n",
       "      <td>0.727</td>\n",
       "      <td>0.703</td>\n",
       "      <td>0.823</td>\n",
       "      <td>26</td>\n",
       "      <td>0.185</td>\n",
       "      <td>1940</td>\n",
       "      <td>1940</td>\n",
       "      <td>5SikmTT1Bf2M1NetWLeDyi</td>\n",
       "    </tr>\n",
       "    <tr>\n",
       "      <th>3610</th>\n",
       "      <td>Final Speech (From \"The Great Dictator\")</td>\n",
       "      <td>['Charlie Chaplin']</td>\n",
       "      <td>124.4</td>\n",
       "      <td>2</td>\n",
       "      <td>1</td>\n",
       "      <td>D major</td>\n",
       "      <td>-8.429</td>\n",
       "      <td>222867</td>\n",
       "      <td>0.383</td>\n",
       "      <td>0.000000</td>\n",
       "      <td>0.6590</td>\n",
       "      <td>0.885</td>\n",
       "      <td>0.721</td>\n",
       "      <td>0.629</td>\n",
       "      <td>25</td>\n",
       "      <td>0.503</td>\n",
       "      <td>1940</td>\n",
       "      <td>1940</td>\n",
       "      <td>5HjcDXSfMbBmG4x04wELjK</td>\n",
       "    </tr>\n",
       "  </tbody>\n",
       "</table>\n",
       "</div>"
      ],
      "text/plain": [
       "                                                   name  \\\n",
       "3606                    Main Title - Gone With the Wind   \n",
       "3607  Let's Do It (with Eddie Heywood & His Orchestr...   \n",
       "3608                                       9:20 Special   \n",
       "3609  Seven Come Eleven (feat. Benny Goodman & Charl...   \n",
       "3610           Final Speech (From \"The Great Dictator\")   \n",
       "\n",
       "                                                artists  tempo  key  mode  \\\n",
       "3606                                    ['Max Steiner']  121.8    5     1   \n",
       "3607                ['Billie Holiday', 'Eddie Heywood']  142.3    5     0   \n",
       "3608                                    ['Count Basie']  198.7    2     0   \n",
       "3609  ['Benny Goodman Sextet', 'Benny Goodman', 'Cha...  115.7    1     1   \n",
       "3610                                ['Charlie Chaplin']  124.4    2     1   \n",
       "\n",
       "      full_key  loudness  duration_ms  energy  instrumentalness  speechiness  \\\n",
       "3606   F major    -8.326       246773   0.430          0.854000       0.0357   \n",
       "3607   F minor   -14.450       175893   0.182          0.000171       0.0537   \n",
       "3608   D minor   -14.557       187400   0.333          0.089200       0.1010   \n",
       "3609  C# major    -6.975       165800   0.720          0.016000       0.0292   \n",
       "3610   D major    -8.429       222867   0.383          0.000000       0.6590   \n",
       "\n",
       "      acousticness  danceability  valence  popularity  liveness  year  \\\n",
       "3606         0.680         0.170    0.171          33     0.459  1940   \n",
       "3607         0.983         0.543    0.597          23     0.258  1940   \n",
       "3608         0.871         0.513    0.876          27     0.297  1940   \n",
       "3609         0.727         0.703    0.823          26     0.185  1940   \n",
       "3610         0.885         0.721    0.629          25     0.503  1940   \n",
       "\n",
       "     release_date                      id  \n",
       "3606   1940-01-17  6kucJsz2GR6oN8glzqGdTh  \n",
       "3607         1940  3LKwoKXJBpWBSKID58IgYw  \n",
       "3608         1940  1GoA6bkY0rZsc7aAHGlfl5  \n",
       "3609         1940  5SikmTT1Bf2M1NetWLeDyi  \n",
       "3610         1940  5HjcDXSfMbBmG4x04wELjK  "
      ]
     },
     "execution_count": 23,
     "metadata": {},
     "output_type": "execute_result"
    }
   ],
   "source": [
    "df.head()"
   ]
  },
  {
   "cell_type": "markdown",
   "metadata": {},
   "source": [
    "---"
   ]
  },
  {
   "cell_type": "code",
   "execution_count": 24,
   "metadata": {},
   "outputs": [
    {
     "data": {
      "text/plain": [
       "count    152342.000000\n",
       "mean         34.349654\n",
       "std          20.757630\n",
       "min           0.000000\n",
       "25%          20.000000\n",
       "50%          36.000000\n",
       "75%          50.000000\n",
       "max         100.000000\n",
       "Name: popularity, dtype: float64"
      ]
     },
     "execution_count": 24,
     "metadata": {},
     "output_type": "execute_result"
    }
   ],
   "source": [
    "df['popularity'].describe()"
   ]
  },
  {
   "cell_type": "code",
   "execution_count": 25,
   "metadata": {},
   "outputs": [],
   "source": [
    "# Based on the metrics immediately above, I'm going to drop all songs with a popularity rating of less than 10 out of 100.\n",
    "# The mean popularity skews low, which makes sense based on how Spotify measures it (definition above). Even still, I'd like to filter\n",
    "# out the least popular songs, given that the point of the project is to help new artists market themselves.\n",
    "df = df[(df['popularity'] >= 10)]\n",
    "\n",
    "# Dropping all rows where the \"artists\" feature contains the word \"Cast\" and \"Broadway Company\".\n",
    "# These are Broadway and musical film cast recordings, which are not within the scope of this project's goals. \n",
    "df = df[(df['artists'].str.contains('Cast', case=False)) == False]\n",
    "df = df[(df['artists'].str.contains('Broadway Company', case=False)) == False]\n",
    "\n",
    "# Similarly dropping artists containing the phrase \"Motion Picture\".\n",
    "df = df[(df['artists'].str.contains('Motion Picture', case=False)) == False]\n",
    "\n",
    "# I also noticed some Charlie Chaplin dialogue recordings in the dataframe. Dropping here.\n",
    "df = df[(df['artists'].str.contains('Charlie Chaplin', case=False)) == False]\n",
    "\n",
    "# Same with \"Legally Blonde\"\n",
    "df = df[(df['artists'].str.contains('Legally Blonde', case=False)) == False]"
   ]
  },
  {
   "cell_type": "code",
   "execution_count": 26,
   "metadata": {},
   "outputs": [
    {
     "data": {
      "text/html": [
       "<div>\n",
       "<style scoped>\n",
       "    .dataframe tbody tr th:only-of-type {\n",
       "        vertical-align: middle;\n",
       "    }\n",
       "\n",
       "    .dataframe tbody tr th {\n",
       "        vertical-align: top;\n",
       "    }\n",
       "\n",
       "    .dataframe thead th {\n",
       "        text-align: right;\n",
       "    }\n",
       "</style>\n",
       "<table border=\"1\" class=\"dataframe\">\n",
       "  <thead>\n",
       "    <tr style=\"text-align: right;\">\n",
       "      <th></th>\n",
       "      <th>name</th>\n",
       "      <th>artists</th>\n",
       "      <th>tempo</th>\n",
       "      <th>key</th>\n",
       "      <th>mode</th>\n",
       "      <th>full_key</th>\n",
       "      <th>loudness</th>\n",
       "      <th>duration_ms</th>\n",
       "      <th>energy</th>\n",
       "      <th>instrumentalness</th>\n",
       "      <th>speechiness</th>\n",
       "      <th>acousticness</th>\n",
       "      <th>danceability</th>\n",
       "      <th>valence</th>\n",
       "      <th>popularity</th>\n",
       "      <th>liveness</th>\n",
       "      <th>year</th>\n",
       "      <th>release_date</th>\n",
       "      <th>id</th>\n",
       "    </tr>\n",
       "  </thead>\n",
       "  <tbody>\n",
       "    <tr>\n",
       "      <th>3606</th>\n",
       "      <td>Main Title - Gone With the Wind</td>\n",
       "      <td>['Max Steiner']</td>\n",
       "      <td>121.8</td>\n",
       "      <td>5</td>\n",
       "      <td>1</td>\n",
       "      <td>F major</td>\n",
       "      <td>-8.326</td>\n",
       "      <td>246773</td>\n",
       "      <td>0.430</td>\n",
       "      <td>0.854000</td>\n",
       "      <td>0.0357</td>\n",
       "      <td>0.680</td>\n",
       "      <td>0.170</td>\n",
       "      <td>0.171</td>\n",
       "      <td>33</td>\n",
       "      <td>0.459</td>\n",
       "      <td>1940</td>\n",
       "      <td>1940-01-17</td>\n",
       "      <td>6kucJsz2GR6oN8glzqGdTh</td>\n",
       "    </tr>\n",
       "    <tr>\n",
       "      <th>3607</th>\n",
       "      <td>Let's Do It (with Eddie Heywood &amp; His Orchestr...</td>\n",
       "      <td>['Billie Holiday', 'Eddie Heywood']</td>\n",
       "      <td>142.3</td>\n",
       "      <td>5</td>\n",
       "      <td>0</td>\n",
       "      <td>F minor</td>\n",
       "      <td>-14.450</td>\n",
       "      <td>175893</td>\n",
       "      <td>0.182</td>\n",
       "      <td>0.000171</td>\n",
       "      <td>0.0537</td>\n",
       "      <td>0.983</td>\n",
       "      <td>0.543</td>\n",
       "      <td>0.597</td>\n",
       "      <td>23</td>\n",
       "      <td>0.258</td>\n",
       "      <td>1940</td>\n",
       "      <td>1940</td>\n",
       "      <td>3LKwoKXJBpWBSKID58IgYw</td>\n",
       "    </tr>\n",
       "    <tr>\n",
       "      <th>3608</th>\n",
       "      <td>9:20 Special</td>\n",
       "      <td>['Count Basie']</td>\n",
       "      <td>198.7</td>\n",
       "      <td>2</td>\n",
       "      <td>0</td>\n",
       "      <td>D minor</td>\n",
       "      <td>-14.557</td>\n",
       "      <td>187400</td>\n",
       "      <td>0.333</td>\n",
       "      <td>0.089200</td>\n",
       "      <td>0.1010</td>\n",
       "      <td>0.871</td>\n",
       "      <td>0.513</td>\n",
       "      <td>0.876</td>\n",
       "      <td>27</td>\n",
       "      <td>0.297</td>\n",
       "      <td>1940</td>\n",
       "      <td>1940</td>\n",
       "      <td>1GoA6bkY0rZsc7aAHGlfl5</td>\n",
       "    </tr>\n",
       "    <tr>\n",
       "      <th>3609</th>\n",
       "      <td>Seven Come Eleven (feat. Benny Goodman &amp; Charl...</td>\n",
       "      <td>['Benny Goodman Sextet', 'Benny Goodman', 'Cha...</td>\n",
       "      <td>115.7</td>\n",
       "      <td>1</td>\n",
       "      <td>1</td>\n",
       "      <td>C# major</td>\n",
       "      <td>-6.975</td>\n",
       "      <td>165800</td>\n",
       "      <td>0.720</td>\n",
       "      <td>0.016000</td>\n",
       "      <td>0.0292</td>\n",
       "      <td>0.727</td>\n",
       "      <td>0.703</td>\n",
       "      <td>0.823</td>\n",
       "      <td>26</td>\n",
       "      <td>0.185</td>\n",
       "      <td>1940</td>\n",
       "      <td>1940</td>\n",
       "      <td>5SikmTT1Bf2M1NetWLeDyi</td>\n",
       "    </tr>\n",
       "    <tr>\n",
       "      <th>3611</th>\n",
       "      <td>Things Ain't What They Used To Be - 1995 Remas...</td>\n",
       "      <td>['Johnny Hodges &amp; His Orchestra']</td>\n",
       "      <td>89.1</td>\n",
       "      <td>1</td>\n",
       "      <td>1</td>\n",
       "      <td>C# major</td>\n",
       "      <td>-17.038</td>\n",
       "      <td>217933</td>\n",
       "      <td>0.127</td>\n",
       "      <td>0.897000</td>\n",
       "      <td>0.0486</td>\n",
       "      <td>0.971</td>\n",
       "      <td>0.651</td>\n",
       "      <td>0.529</td>\n",
       "      <td>22</td>\n",
       "      <td>0.113</td>\n",
       "      <td>1940</td>\n",
       "      <td>1940</td>\n",
       "      <td>61HOxhLI26v49GePTFZ1pN</td>\n",
       "    </tr>\n",
       "  </tbody>\n",
       "</table>\n",
       "</div>"
      ],
      "text/plain": [
       "                                                   name  \\\n",
       "3606                    Main Title - Gone With the Wind   \n",
       "3607  Let's Do It (with Eddie Heywood & His Orchestr...   \n",
       "3608                                       9:20 Special   \n",
       "3609  Seven Come Eleven (feat. Benny Goodman & Charl...   \n",
       "3611  Things Ain't What They Used To Be - 1995 Remas...   \n",
       "\n",
       "                                                artists  tempo  key  mode  \\\n",
       "3606                                    ['Max Steiner']  121.8    5     1   \n",
       "3607                ['Billie Holiday', 'Eddie Heywood']  142.3    5     0   \n",
       "3608                                    ['Count Basie']  198.7    2     0   \n",
       "3609  ['Benny Goodman Sextet', 'Benny Goodman', 'Cha...  115.7    1     1   \n",
       "3611                  ['Johnny Hodges & His Orchestra']   89.1    1     1   \n",
       "\n",
       "      full_key  loudness  duration_ms  energy  instrumentalness  speechiness  \\\n",
       "3606   F major    -8.326       246773   0.430          0.854000       0.0357   \n",
       "3607   F minor   -14.450       175893   0.182          0.000171       0.0537   \n",
       "3608   D minor   -14.557       187400   0.333          0.089200       0.1010   \n",
       "3609  C# major    -6.975       165800   0.720          0.016000       0.0292   \n",
       "3611  C# major   -17.038       217933   0.127          0.897000       0.0486   \n",
       "\n",
       "      acousticness  danceability  valence  popularity  liveness  year  \\\n",
       "3606         0.680         0.170    0.171          33     0.459  1940   \n",
       "3607         0.983         0.543    0.597          23     0.258  1940   \n",
       "3608         0.871         0.513    0.876          27     0.297  1940   \n",
       "3609         0.727         0.703    0.823          26     0.185  1940   \n",
       "3611         0.971         0.651    0.529          22     0.113  1940   \n",
       "\n",
       "     release_date                      id  \n",
       "3606   1940-01-17  6kucJsz2GR6oN8glzqGdTh  \n",
       "3607         1940  3LKwoKXJBpWBSKID58IgYw  \n",
       "3608         1940  1GoA6bkY0rZsc7aAHGlfl5  \n",
       "3609         1940  5SikmTT1Bf2M1NetWLeDyi  \n",
       "3611         1940  61HOxhLI26v49GePTFZ1pN  "
      ]
     },
     "execution_count": 26,
     "metadata": {},
     "output_type": "execute_result"
    }
   ],
   "source": [
    "df.head()"
   ]
  },
  {
   "cell_type": "markdown",
   "metadata": {},
   "source": [
    "---"
   ]
  },
  {
   "cell_type": "code",
   "execution_count": null,
   "metadata": {},
   "outputs": [],
   "source": []
  },
  {
   "cell_type": "code",
   "execution_count": 42,
   "metadata": {},
   "outputs": [
    {
     "data": {
      "text/html": [
       "<div>\n",
       "<style scoped>\n",
       "    .dataframe tbody tr th:only-of-type {\n",
       "        vertical-align: middle;\n",
       "    }\n",
       "\n",
       "    .dataframe tbody tr th {\n",
       "        vertical-align: top;\n",
       "    }\n",
       "\n",
       "    .dataframe thead th {\n",
       "        text-align: right;\n",
       "    }\n",
       "</style>\n",
       "<table border=\"1\" class=\"dataframe\">\n",
       "  <thead>\n",
       "    <tr style=\"text-align: right;\">\n",
       "      <th></th>\n",
       "      <th>artists</th>\n",
       "    </tr>\n",
       "  </thead>\n",
       "  <tbody>\n",
       "    <tr>\n",
       "      <th>count</th>\n",
       "      <td>125561</td>\n",
       "    </tr>\n",
       "    <tr>\n",
       "      <th>unique</th>\n",
       "      <td>25575</td>\n",
       "    </tr>\n",
       "    <tr>\n",
       "      <th>top</th>\n",
       "      <td>['Frank Sinatra']</td>\n",
       "    </tr>\n",
       "    <tr>\n",
       "      <th>freq</th>\n",
       "      <td>590</td>\n",
       "    </tr>\n",
       "  </tbody>\n",
       "</table>\n",
       "</div>"
      ],
      "text/plain": [
       "                  artists\n",
       "count              125561\n",
       "unique              25575\n",
       "top     ['Frank Sinatra']\n",
       "freq                  590"
      ]
     },
     "execution_count": 42,
     "metadata": {},
     "output_type": "execute_result"
    }
   ],
   "source": [
    "df[['artists']].describe()"
   ]
  },
  {
   "cell_type": "code",
   "execution_count": 43,
   "metadata": {},
   "outputs": [],
   "source": [
    "# df.groupby('artists').mean()"
   ]
  },
  {
   "cell_type": "code",
   "execution_count": null,
   "metadata": {},
   "outputs": [],
   "source": []
  },
  {
   "cell_type": "markdown",
   "metadata": {},
   "source": [
    "---"
   ]
  },
  {
   "cell_type": "code",
   "execution_count": null,
   "metadata": {},
   "outputs": [],
   "source": []
  },
  {
   "cell_type": "code",
   "execution_count": null,
   "metadata": {},
   "outputs": [],
   "source": []
  },
  {
   "cell_type": "code",
   "execution_count": null,
   "metadata": {},
   "outputs": [],
   "source": []
  },
  {
   "cell_type": "code",
   "execution_count": 29,
   "metadata": {},
   "outputs": [],
   "source": [
    "# RE-INDEX DATAFRAME"
   ]
  },
  {
   "cell_type": "code",
   "execution_count": 30,
   "metadata": {},
   "outputs": [],
   "source": [
    "# df.to_csv('../data_clean/spotify_kg_master.csv', index=False)"
   ]
  },
  {
   "cell_type": "markdown",
   "metadata": {},
   "source": [
    "---"
   ]
  },
  {
   "cell_type": "code",
   "execution_count": null,
   "metadata": {},
   "outputs": [],
   "source": []
  },
  {
   "cell_type": "code",
   "execution_count": null,
   "metadata": {},
   "outputs": [],
   "source": []
  },
  {
   "cell_type": "code",
   "execution_count": null,
   "metadata": {},
   "outputs": [],
   "source": []
  },
  {
   "cell_type": "code",
   "execution_count": null,
   "metadata": {},
   "outputs": [],
   "source": []
  },
  {
   "cell_type": "code",
   "execution_count": null,
   "metadata": {},
   "outputs": [],
   "source": []
  },
  {
   "cell_type": "code",
   "execution_count": null,
   "metadata": {},
   "outputs": [],
   "source": []
  }
 ],
 "metadata": {
  "kernelspec": {
   "display_name": "Python 3",
   "language": "python",
   "name": "python3"
  },
  "language_info": {
   "codemirror_mode": {
    "name": "ipython",
    "version": 3
   },
   "file_extension": ".py",
   "mimetype": "text/x-python",
   "name": "python",
   "nbconvert_exporter": "python",
   "pygments_lexer": "ipython3",
   "version": "3.8.5"
  }
 },
 "nbformat": 4,
 "nbformat_minor": 4
}
