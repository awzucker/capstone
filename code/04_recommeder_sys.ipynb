{
 "cells": [
  {
   "cell_type": "markdown",
   "metadata": {},
   "source": [
    "![](../images/bunker_studer.jpeg)\n",
    "<br>\n",
    "Photo: [*The Bunker*](https://www.thebunkerstudio.com/)"
   ]
  },
  {
   "cell_type": "markdown",
   "metadata": {},
   "source": [
    "# Who Do You Sound Like?\n",
    "### Notebook 4: Recommender System\n",
    "#### Adam Zucker\n",
    "---"
   ]
  },
  {
   "cell_type": "markdown",
   "metadata": {},
   "source": [
    "## Contents\n",
    "- **Section 1:** Package and data imports, preprocessing\n",
    "- **Section 2:** Vector generation and dataframe creation\n",
    "- **Section 3:** Recommender algorithm"
   ]
  },
  {
   "cell_type": "markdown",
   "metadata": {},
   "source": [
    "---\n",
    "---\n",
    "### Section 1\n",
    "#### Imports"
   ]
  },
  {
   "cell_type": "code",
   "execution_count": 1,
   "metadata": {},
   "outputs": [],
   "source": [
    "import numpy as np\n",
    "import pandas as pd\n",
    "import matplotlib.pyplot as plt\n",
    "import seaborn as sns\n",
    "import scipy as sp\n",
    "\n",
    "from sklearn.metrics.pairwise import pairwise_distances, cosine_distances, cosine_similarity, manhattan_distances\n",
    "\n",
    "import librosa as lib\n",
    "import librosa.display as libd"
   ]
  },
  {
   "cell_type": "code",
   "execution_count": 2,
   "metadata": {},
   "outputs": [
    {
     "data": {
      "text/html": [
       "<div>\n",
       "<style scoped>\n",
       "    .dataframe tbody tr th:only-of-type {\n",
       "        vertical-align: middle;\n",
       "    }\n",
       "\n",
       "    .dataframe tbody tr th {\n",
       "        vertical-align: top;\n",
       "    }\n",
       "\n",
       "    .dataframe thead th {\n",
       "        text-align: right;\n",
       "    }\n",
       "</style>\n",
       "<table border=\"1\" class=\"dataframe\">\n",
       "  <thead>\n",
       "    <tr style=\"text-align: right;\">\n",
       "      <th></th>\n",
       "      <th>name</th>\n",
       "      <th>artists</th>\n",
       "      <th>tempo</th>\n",
       "      <th>key</th>\n",
       "      <th>mode</th>\n",
       "      <th>full_key</th>\n",
       "      <th>A minor</th>\n",
       "      <th>A# major</th>\n",
       "      <th>A# minor</th>\n",
       "      <th>B major</th>\n",
       "      <th>...</th>\n",
       "      <th>energy</th>\n",
       "      <th>instrumentalness</th>\n",
       "      <th>speechiness</th>\n",
       "      <th>acousticness</th>\n",
       "      <th>danceability</th>\n",
       "      <th>valence</th>\n",
       "      <th>popularity</th>\n",
       "      <th>liveness</th>\n",
       "      <th>year</th>\n",
       "      <th>id</th>\n",
       "    </tr>\n",
       "  </thead>\n",
       "  <tbody>\n",
       "    <tr>\n",
       "      <th>0</th>\n",
       "      <td>Thunderstruck</td>\n",
       "      <td>['AC/DC']</td>\n",
       "      <td>133.5</td>\n",
       "      <td>4</td>\n",
       "      <td>1</td>\n",
       "      <td>E major</td>\n",
       "      <td>0</td>\n",
       "      <td>0</td>\n",
       "      <td>0</td>\n",
       "      <td>0</td>\n",
       "      <td>...</td>\n",
       "      <td>0.890</td>\n",
       "      <td>0.01170</td>\n",
       "      <td>0.0364</td>\n",
       "      <td>0.000147</td>\n",
       "      <td>0.502</td>\n",
       "      <td>0.259</td>\n",
       "      <td>83</td>\n",
       "      <td>0.217</td>\n",
       "      <td>1990</td>\n",
       "      <td>57bgtoPSgt236HzfBOd8kj</td>\n",
       "    </tr>\n",
       "    <tr>\n",
       "      <th>1</th>\n",
       "      <td>The Gift of Love</td>\n",
       "      <td>['Bette Midler']</td>\n",
       "      <td>157.5</td>\n",
       "      <td>8</td>\n",
       "      <td>1</td>\n",
       "      <td>G# major</td>\n",
       "      <td>0</td>\n",
       "      <td>0</td>\n",
       "      <td>0</td>\n",
       "      <td>0</td>\n",
       "      <td>...</td>\n",
       "      <td>0.467</td>\n",
       "      <td>0.00000</td>\n",
       "      <td>0.0287</td>\n",
       "      <td>0.359000</td>\n",
       "      <td>0.486</td>\n",
       "      <td>0.286</td>\n",
       "      <td>38</td>\n",
       "      <td>0.110</td>\n",
       "      <td>1990</td>\n",
       "      <td>7FUc1xVSKvABmVwI6kS5Y4</td>\n",
       "    </tr>\n",
       "    <tr>\n",
       "      <th>2</th>\n",
       "      <td>Thelma - Bonus Track</td>\n",
       "      <td>['Paul Simon']</td>\n",
       "      <td>94.0</td>\n",
       "      <td>5</td>\n",
       "      <td>1</td>\n",
       "      <td>F major</td>\n",
       "      <td>0</td>\n",
       "      <td>0</td>\n",
       "      <td>0</td>\n",
       "      <td>0</td>\n",
       "      <td>...</td>\n",
       "      <td>0.529</td>\n",
       "      <td>0.08450</td>\n",
       "      <td>0.0770</td>\n",
       "      <td>0.872000</td>\n",
       "      <td>0.710</td>\n",
       "      <td>0.882</td>\n",
       "      <td>29</td>\n",
       "      <td>0.093</td>\n",
       "      <td>1990</td>\n",
       "      <td>7pcEC5r1jVqWGRypo9D7f7</td>\n",
       "    </tr>\n",
       "    <tr>\n",
       "      <th>3</th>\n",
       "      <td>How I Need You</td>\n",
       "      <td>['Bad Boys Blue']</td>\n",
       "      <td>123.1</td>\n",
       "      <td>9</td>\n",
       "      <td>0</td>\n",
       "      <td>A minor</td>\n",
       "      <td>1</td>\n",
       "      <td>0</td>\n",
       "      <td>0</td>\n",
       "      <td>0</td>\n",
       "      <td>...</td>\n",
       "      <td>0.670</td>\n",
       "      <td>0.00347</td>\n",
       "      <td>0.0398</td>\n",
       "      <td>0.072400</td>\n",
       "      <td>0.652</td>\n",
       "      <td>0.963</td>\n",
       "      <td>44</td>\n",
       "      <td>0.119</td>\n",
       "      <td>1990</td>\n",
       "      <td>1yq8h4zD0IDT5X1YTaEwZh</td>\n",
       "    </tr>\n",
       "    <tr>\n",
       "      <th>4</th>\n",
       "      <td>Nunca Dudes De Mi</td>\n",
       "      <td>['El Golpe']</td>\n",
       "      <td>143.1</td>\n",
       "      <td>4</td>\n",
       "      <td>1</td>\n",
       "      <td>E major</td>\n",
       "      <td>0</td>\n",
       "      <td>0</td>\n",
       "      <td>0</td>\n",
       "      <td>0</td>\n",
       "      <td>...</td>\n",
       "      <td>0.490</td>\n",
       "      <td>0.00000</td>\n",
       "      <td>0.0295</td>\n",
       "      <td>0.151000</td>\n",
       "      <td>0.476</td>\n",
       "      <td>0.514</td>\n",
       "      <td>31</td>\n",
       "      <td>0.305</td>\n",
       "      <td>1990</td>\n",
       "      <td>5kNYkLFs3WFFgE6qhfWDEm</td>\n",
       "    </tr>\n",
       "  </tbody>\n",
       "</table>\n",
       "<p>5 rows × 41 columns</p>\n",
       "</div>"
      ],
      "text/plain": [
       "                   name            artists  tempo  key  mode  full_key  \\\n",
       "0         Thunderstruck          ['AC/DC']  133.5    4     1   E major   \n",
       "1      The Gift of Love   ['Bette Midler']  157.5    8     1  G# major   \n",
       "2  Thelma - Bonus Track     ['Paul Simon']   94.0    5     1   F major   \n",
       "3        How I Need You  ['Bad Boys Blue']  123.1    9     0   A minor   \n",
       "4     Nunca Dudes De Mi       ['El Golpe']  143.1    4     1   E major   \n",
       "\n",
       "   A minor  A# major  A# minor  B major  ...  energy  instrumentalness  \\\n",
       "0        0         0         0        0  ...   0.890           0.01170   \n",
       "1        0         0         0        0  ...   0.467           0.00000   \n",
       "2        0         0         0        0  ...   0.529           0.08450   \n",
       "3        1         0         0        0  ...   0.670           0.00347   \n",
       "4        0         0         0        0  ...   0.490           0.00000   \n",
       "\n",
       "   speechiness  acousticness  danceability  valence  popularity  liveness  \\\n",
       "0       0.0364      0.000147         0.502    0.259          83     0.217   \n",
       "1       0.0287      0.359000         0.486    0.286          38     0.110   \n",
       "2       0.0770      0.872000         0.710    0.882          29     0.093   \n",
       "3       0.0398      0.072400         0.652    0.963          44     0.119   \n",
       "4       0.0295      0.151000         0.476    0.514          31     0.305   \n",
       "\n",
       "   year                      id  \n",
       "0  1990  57bgtoPSgt236HzfBOd8kj  \n",
       "1  1990  7FUc1xVSKvABmVwI6kS5Y4  \n",
       "2  1990  7pcEC5r1jVqWGRypo9D7f7  \n",
       "3  1990  1yq8h4zD0IDT5X1YTaEwZh  \n",
       "4  1990  5kNYkLFs3WFFgE6qhfWDEm  \n",
       "\n",
       "[5 rows x 41 columns]"
      ]
     },
     "execution_count": 2,
     "metadata": {},
     "output_type": "execute_result"
    }
   ],
   "source": [
    "# Importing cleaned Spotify dataframe\n",
    "df = pd.read_csv('../data_clean/spotify_kg_master.csv')\n",
    "df.head()"
   ]
  },
  {
   "cell_type": "markdown",
   "metadata": {},
   "source": [
    "---"
   ]
  },
  {
   "cell_type": "markdown",
   "metadata": {},
   "source": [
    "**BELOW:** Preprocessing and formatting the Spotify dataframe for conversion to a sparse matrix."
   ]
  },
  {
   "cell_type": "code",
   "execution_count": 3,
   "metadata": {},
   "outputs": [
    {
     "name": "stdout",
     "output_type": "stream",
     "text": [
      "(56798, 41)\n",
      "(56798, 41)\n"
     ]
    }
   ],
   "source": [
    "# Creating a copy of the dataframe to use for the recommender system\n",
    "temp_df = df.copy()\n",
    "print(temp_df.shape)\n",
    "print(df.shape)"
   ]
  },
  {
   "cell_type": "code",
   "execution_count": 4,
   "metadata": {},
   "outputs": [
    {
     "data": {
      "text/plain": [
       "Index(['name', 'artists', 'tempo', 'key', 'mode', 'full_key', 'A minor',\n",
       "       'A# major', 'A# minor', 'B major', 'B minor', 'C major', 'C minor',\n",
       "       'C# major', 'C# minor', 'D major', 'D minor', 'D# major', 'D# minor',\n",
       "       'E major', 'E minor', 'F major', 'F minor', 'F# major', 'F# minor',\n",
       "       'G major', 'G minor', 'G# major', 'G# minor', 'loudness', 'duration_s',\n",
       "       'energy', 'instrumentalness', 'speechiness', 'acousticness',\n",
       "       'danceability', 'valence', 'popularity', 'liveness', 'year', 'id'],\n",
       "      dtype='object')"
      ]
     },
     "execution_count": 4,
     "metadata": {},
     "output_type": "execute_result"
    }
   ],
   "source": [
    "temp_df.columns"
   ]
  },
  {
   "cell_type": "code",
   "execution_count": 5,
   "metadata": {},
   "outputs": [],
   "source": [
    "# Combining 'name' and 'artists' features to use as indices\n",
    "temp_df['name_and_artists'] = temp_df['name'] + ' - ' + temp_df['artists']"
   ]
  },
  {
   "cell_type": "code",
   "execution_count": 6,
   "metadata": {},
   "outputs": [],
   "source": [
    "# Dropping features that won't be converted to sparse for similarity comparisons\n",
    "temp_df.drop(columns=['name', 'artists', 'key', 'mode', 'full_key', 'popularity', 'year', 'id'], inplace=True)"
   ]
  },
  {
   "cell_type": "code",
   "execution_count": 7,
   "metadata": {},
   "outputs": [
    {
     "data": {
      "text/plain": [
       "Index(['tempo', 'A minor', 'A# major', 'A# minor', 'B major', 'B minor',\n",
       "       'C major', 'C minor', 'C# major', 'C# minor', 'D major', 'D minor',\n",
       "       'D# major', 'D# minor', 'E major', 'E minor', 'F major', 'F minor',\n",
       "       'F# major', 'F# minor', 'G major', 'G minor', 'G# major', 'G# minor',\n",
       "       'loudness', 'duration_s', 'energy', 'instrumentalness', 'speechiness',\n",
       "       'acousticness', 'danceability', 'valence', 'liveness',\n",
       "       'name_and_artists'],\n",
       "      dtype='object')"
      ]
     },
     "execution_count": 7,
     "metadata": {},
     "output_type": "execute_result"
    }
   ],
   "source": [
    "temp_df.columns"
   ]
  },
  {
   "cell_type": "code",
   "execution_count": 8,
   "metadata": {},
   "outputs": [],
   "source": [
    "# Reordering columns\n",
    "temp_df = temp_df[['name_and_artists', 'tempo', 'A minor', 'A# major', 'A# minor', 'B major', 'B minor', 'C major', \n",
    "                   'C minor', 'C# major', 'C# minor', 'D major', 'D minor', 'D# major', 'D# minor', 'E major', 'E minor', \n",
    "                   'F major', 'F minor', 'F# major', 'F# minor', 'G major', 'G minor', 'G# major', 'G# minor', 'loudness', \n",
    "                   'duration_s', 'energy', 'instrumentalness', 'speechiness', 'acousticness', 'danceability', 'valence', \n",
    "                   'liveness']]"
   ]
  },
  {
   "cell_type": "markdown",
   "metadata": {},
   "source": [
    "---\n",
    "---\n",
    "### Section 2\n",
    "#### Vector Generation"
   ]
  },
  {
   "cell_type": "code",
   "execution_count": 10,
   "metadata": {},
   "outputs": [],
   "source": [
    "# Creating a pivot table of my features\n",
    "#p_table = temp_df.pivot_table(index='names_and_artists', columns=temp_df.drop(columns='name_and_artists').columns)"
   ]
  },
  {
   "cell_type": "code",
   "execution_count": null,
   "metadata": {},
   "outputs": [],
   "source": []
  }
 ],
 "metadata": {
  "kernelspec": {
   "display_name": "Python 3",
   "language": "python",
   "name": "python3"
  },
  "language_info": {
   "codemirror_mode": {
    "name": "ipython",
    "version": 3
   },
   "file_extension": ".py",
   "mimetype": "text/x-python",
   "name": "python",
   "nbconvert_exporter": "python",
   "pygments_lexer": "ipython3",
   "version": "3.8.5"
  }
 },
 "nbformat": 4,
 "nbformat_minor": 4
}
