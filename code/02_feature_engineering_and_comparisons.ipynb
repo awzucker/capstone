{
 "cells": [
  {
   "cell_type": "markdown",
   "metadata": {},
   "source": [
    "![](../images/bunker_neve.jpeg)\n",
    "<br>\n",
    "Photo: [*The Bunker*](https://www.thebunkerstudio.com/)"
   ]
  },
  {
   "cell_type": "markdown",
   "metadata": {},
   "source": [
    "# Who Do You Sound Like?\n",
    "### Notebook 2: Feature Engineering & Metric Comparisons\n",
    "#### Adam Zucker\n",
    "---"
   ]
  },
  {
   "cell_type": "markdown",
   "metadata": {},
   "source": [
    "## Contents\n",
    "- **Section 1:** Package and data imports\n",
    "- **Section 2:** Comparing Spotify metrics with Librosa metrics\n",
    "- **Section 3:** Engineering conversions between Librosa and Spotify\n",
    "- **Section 4:** Data exports"
   ]
  },
  {
   "cell_type": "markdown",
   "metadata": {},
   "source": [
    "---\n",
    "---\n",
    "### Section 1\n",
    "#### Imports"
   ]
  },
  {
   "cell_type": "code",
   "execution_count": 1,
   "metadata": {},
   "outputs": [],
   "source": [
    "import numpy as np\n",
    "import pandas as pd\n",
    "import matplotlib.pyplot as plt\n",
    "import seaborn as sns\n",
    "import scipy as sp\n",
    "\n",
    "import os\n",
    "import IPython.display as ipd\n",
    "\n",
    "import spotipy\n",
    "import librosa as lib\n",
    "import librosa.display as libd"
   ]
  },
  {
   "cell_type": "markdown",
   "metadata": {},
   "source": [
    "---"
   ]
  },
  {
   "cell_type": "markdown",
   "metadata": {},
   "source": [
    "**BELOW:** Importing cleaned Spotify song dataset, sourced from [Kaggle](https://www.kaggle.com/yamaerenay/spotify-dataset-19212020-160k-tracks?select=data.csv). Some brief descriptions of less tangible features, as defined by [Spotify](https://developer.spotify.com/documentation/web-api/reference/):\n",
    "- **Acousticness:** A confidence measure from 0.0 to 1.0 of whether the track is acoustic.\n",
    "- **Danceability:** How suitable a track is for dancing based on a combination of musical elements including tempo, rhythm stability, beat strength, and overall regularity. A value of 0.0 is least danceable and 1.0 is most danceable. \n",
    "- **Energy:** A measure from 0.0 to 1.0 and represents a perceptual measure of intensity and activity. Typically, energetic tracks feel fast, loud, and noisy. For example, death metal has high energy, while a Bach prelude scores low on the scale. Perceptual features contributing to this attribute include dynamic range, perceived loudness, timbre, onset rate, and general entropy.\n",
    "- **Instrumentalness:** Predicts whether a track contains vocals. “Ooh” and “aah” sounds are treated as instrumental in this context. Rap or spoken word tracks are clearly “vocal”. The closer the instrumentalness value is to 1.0, the greater likelihood the track contains no vocal content. Values above 0.5 are intended to represent instrumental tracks, but confidence is higher as the value approaches 1.0.\n",
    "- **Liveness:** Detects the presence of an audience in the recording. Higher liveness values represent an increased probability that the track was performed live. A value above 0.8 provides strong likelihood that the track is live.\n",
    "- **Loudness:** The overall loudness of a track in decibels (dB). Loudness values are averaged across the entire track and are useful for comparing relative loudness of tracks. Loudness is the quality of a sound that is the primary psychological correlate of physical strength (amplitude). Values typically range between -60 and 0 dB.\n",
    "- **Popularity:** The popularity of a track is a value between 0 and 100, with 100 being the most popular. The popularity is calculated by algorithm and is based, in the most part, on the total number of plays the track has had and how recent those plays are. Generally speaking, songs that are being played a lot now will have a higher popularity than songs that were played a lot in the past. Duplicate tracks (e.g., the same track from a single and an album) are rated independently. Artist and album popularity is derived mathematically from track popularity.\n",
    "- **Speechiness:** Detects the presence of spoken words in a track. The more exclusively speech-like the recording (e.g., talk show, audio book, poetry), the closer to 1.0 the attribute value. Values above 0.66 describe tracks that are probably made entirely of spoken words. Values between 0.33 and 0.66 describe tracks that may contain both music and speech, either in sections or layered, including such cases as rap music. Values below 0.33 most likely represent music and other non-speech-like tracks.\n",
    "- **Valence:** A measure from 0.0 to 1.0 describing the musical positiveness conveyed by a track. Tracks with high valence sound more positive (e.g., happy, cheerful, euphoric), while tracks with low valence sound more negative (e.g., sad, depressed, angry)."
   ]
  },
  {
   "cell_type": "markdown",
   "metadata": {},
   "source": [
    "---"
   ]
  },
  {
   "cell_type": "code",
   "execution_count": 2,
   "metadata": {},
   "outputs": [
    {
     "data": {
      "text/html": [
       "<div>\n",
       "<style scoped>\n",
       "    .dataframe tbody tr th:only-of-type {\n",
       "        vertical-align: middle;\n",
       "    }\n",
       "\n",
       "    .dataframe tbody tr th {\n",
       "        vertical-align: top;\n",
       "    }\n",
       "\n",
       "    .dataframe thead th {\n",
       "        text-align: right;\n",
       "    }\n",
       "</style>\n",
       "<table border=\"1\" class=\"dataframe\">\n",
       "  <thead>\n",
       "    <tr style=\"text-align: right;\">\n",
       "      <th></th>\n",
       "      <th>name</th>\n",
       "      <th>artists</th>\n",
       "      <th>tempo</th>\n",
       "      <th>key</th>\n",
       "      <th>mode</th>\n",
       "      <th>full_key</th>\n",
       "      <th>A minor</th>\n",
       "      <th>A# major</th>\n",
       "      <th>A# minor</th>\n",
       "      <th>B major</th>\n",
       "      <th>...</th>\n",
       "      <th>energy</th>\n",
       "      <th>instrumentalness</th>\n",
       "      <th>speechiness</th>\n",
       "      <th>acousticness</th>\n",
       "      <th>danceability</th>\n",
       "      <th>valence</th>\n",
       "      <th>popularity</th>\n",
       "      <th>liveness</th>\n",
       "      <th>year</th>\n",
       "      <th>id</th>\n",
       "    </tr>\n",
       "  </thead>\n",
       "  <tbody>\n",
       "    <tr>\n",
       "      <th>0</th>\n",
       "      <td>Thunderstruck</td>\n",
       "      <td>['AC/DC']</td>\n",
       "      <td>133.5</td>\n",
       "      <td>4</td>\n",
       "      <td>1</td>\n",
       "      <td>E major</td>\n",
       "      <td>0</td>\n",
       "      <td>0</td>\n",
       "      <td>0</td>\n",
       "      <td>0</td>\n",
       "      <td>...</td>\n",
       "      <td>0.890</td>\n",
       "      <td>0.01170</td>\n",
       "      <td>0.0364</td>\n",
       "      <td>0.000147</td>\n",
       "      <td>0.502</td>\n",
       "      <td>0.259</td>\n",
       "      <td>83</td>\n",
       "      <td>0.217</td>\n",
       "      <td>1990</td>\n",
       "      <td>57bgtoPSgt236HzfBOd8kj</td>\n",
       "    </tr>\n",
       "    <tr>\n",
       "      <th>1</th>\n",
       "      <td>The Gift of Love</td>\n",
       "      <td>['Bette Midler']</td>\n",
       "      <td>157.5</td>\n",
       "      <td>8</td>\n",
       "      <td>1</td>\n",
       "      <td>G# major</td>\n",
       "      <td>0</td>\n",
       "      <td>0</td>\n",
       "      <td>0</td>\n",
       "      <td>0</td>\n",
       "      <td>...</td>\n",
       "      <td>0.467</td>\n",
       "      <td>0.00000</td>\n",
       "      <td>0.0287</td>\n",
       "      <td>0.359000</td>\n",
       "      <td>0.486</td>\n",
       "      <td>0.286</td>\n",
       "      <td>38</td>\n",
       "      <td>0.110</td>\n",
       "      <td>1990</td>\n",
       "      <td>7FUc1xVSKvABmVwI6kS5Y4</td>\n",
       "    </tr>\n",
       "    <tr>\n",
       "      <th>2</th>\n",
       "      <td>Thelma - Bonus Track</td>\n",
       "      <td>['Paul Simon']</td>\n",
       "      <td>94.0</td>\n",
       "      <td>5</td>\n",
       "      <td>1</td>\n",
       "      <td>F major</td>\n",
       "      <td>0</td>\n",
       "      <td>0</td>\n",
       "      <td>0</td>\n",
       "      <td>0</td>\n",
       "      <td>...</td>\n",
       "      <td>0.529</td>\n",
       "      <td>0.08450</td>\n",
       "      <td>0.0770</td>\n",
       "      <td>0.872000</td>\n",
       "      <td>0.710</td>\n",
       "      <td>0.882</td>\n",
       "      <td>29</td>\n",
       "      <td>0.093</td>\n",
       "      <td>1990</td>\n",
       "      <td>7pcEC5r1jVqWGRypo9D7f7</td>\n",
       "    </tr>\n",
       "    <tr>\n",
       "      <th>3</th>\n",
       "      <td>How I Need You</td>\n",
       "      <td>['Bad Boys Blue']</td>\n",
       "      <td>123.1</td>\n",
       "      <td>9</td>\n",
       "      <td>0</td>\n",
       "      <td>A minor</td>\n",
       "      <td>1</td>\n",
       "      <td>0</td>\n",
       "      <td>0</td>\n",
       "      <td>0</td>\n",
       "      <td>...</td>\n",
       "      <td>0.670</td>\n",
       "      <td>0.00347</td>\n",
       "      <td>0.0398</td>\n",
       "      <td>0.072400</td>\n",
       "      <td>0.652</td>\n",
       "      <td>0.963</td>\n",
       "      <td>44</td>\n",
       "      <td>0.119</td>\n",
       "      <td>1990</td>\n",
       "      <td>1yq8h4zD0IDT5X1YTaEwZh</td>\n",
       "    </tr>\n",
       "    <tr>\n",
       "      <th>4</th>\n",
       "      <td>Nunca Dudes De Mi</td>\n",
       "      <td>['El Golpe']</td>\n",
       "      <td>143.1</td>\n",
       "      <td>4</td>\n",
       "      <td>1</td>\n",
       "      <td>E major</td>\n",
       "      <td>0</td>\n",
       "      <td>0</td>\n",
       "      <td>0</td>\n",
       "      <td>0</td>\n",
       "      <td>...</td>\n",
       "      <td>0.490</td>\n",
       "      <td>0.00000</td>\n",
       "      <td>0.0295</td>\n",
       "      <td>0.151000</td>\n",
       "      <td>0.476</td>\n",
       "      <td>0.514</td>\n",
       "      <td>31</td>\n",
       "      <td>0.305</td>\n",
       "      <td>1990</td>\n",
       "      <td>5kNYkLFs3WFFgE6qhfWDEm</td>\n",
       "    </tr>\n",
       "  </tbody>\n",
       "</table>\n",
       "<p>5 rows × 41 columns</p>\n",
       "</div>"
      ],
      "text/plain": [
       "                   name            artists  tempo  key  mode  full_key  \\\n",
       "0         Thunderstruck          ['AC/DC']  133.5    4     1   E major   \n",
       "1      The Gift of Love   ['Bette Midler']  157.5    8     1  G# major   \n",
       "2  Thelma - Bonus Track     ['Paul Simon']   94.0    5     1   F major   \n",
       "3        How I Need You  ['Bad Boys Blue']  123.1    9     0   A minor   \n",
       "4     Nunca Dudes De Mi       ['El Golpe']  143.1    4     1   E major   \n",
       "\n",
       "   A minor  A# major  A# minor  B major  ...  energy  instrumentalness  \\\n",
       "0        0         0         0        0  ...   0.890           0.01170   \n",
       "1        0         0         0        0  ...   0.467           0.00000   \n",
       "2        0         0         0        0  ...   0.529           0.08450   \n",
       "3        1         0         0        0  ...   0.670           0.00347   \n",
       "4        0         0         0        0  ...   0.490           0.00000   \n",
       "\n",
       "   speechiness  acousticness  danceability  valence  popularity  liveness  \\\n",
       "0       0.0364      0.000147         0.502    0.259          83     0.217   \n",
       "1       0.0287      0.359000         0.486    0.286          38     0.110   \n",
       "2       0.0770      0.872000         0.710    0.882          29     0.093   \n",
       "3       0.0398      0.072400         0.652    0.963          44     0.119   \n",
       "4       0.0295      0.151000         0.476    0.514          31     0.305   \n",
       "\n",
       "   year                      id  \n",
       "0  1990  57bgtoPSgt236HzfBOd8kj  \n",
       "1  1990  7FUc1xVSKvABmVwI6kS5Y4  \n",
       "2  1990  7pcEC5r1jVqWGRypo9D7f7  \n",
       "3  1990  1yq8h4zD0IDT5X1YTaEwZh  \n",
       "4  1990  5kNYkLFs3WFFgE6qhfWDEm  \n",
       "\n",
       "[5 rows x 41 columns]"
      ]
     },
     "execution_count": 2,
     "metadata": {},
     "output_type": "execute_result"
    }
   ],
   "source": [
    "# Importing cleaned Spotify dataframe\n",
    "df = pd.read_csv('../data_clean/spotify_kg_master.csv')\n",
    "df.head()"
   ]
  },
  {
   "cell_type": "code",
   "execution_count": 3,
   "metadata": {},
   "outputs": [
    {
     "data": {
      "text/plain": [
       "(56798, 41)"
      ]
     },
     "execution_count": 3,
     "metadata": {},
     "output_type": "execute_result"
    }
   ],
   "source": [
    "df.shape"
   ]
  },
  {
   "cell_type": "code",
   "execution_count": 4,
   "metadata": {},
   "outputs": [
    {
     "data": {
      "text/plain": [
       "name                0\n",
       "artists             0\n",
       "tempo               0\n",
       "key                 0\n",
       "mode                0\n",
       "full_key            0\n",
       "A minor             0\n",
       "A# major            0\n",
       "A# minor            0\n",
       "B major             0\n",
       "B minor             0\n",
       "C major             0\n",
       "C minor             0\n",
       "C# major            0\n",
       "C# minor            0\n",
       "D major             0\n",
       "D minor             0\n",
       "D# major            0\n",
       "D# minor            0\n",
       "E major             0\n",
       "E minor             0\n",
       "F major             0\n",
       "F minor             0\n",
       "F# major            0\n",
       "F# minor            0\n",
       "G major             0\n",
       "G minor             0\n",
       "G# major            0\n",
       "G# minor            0\n",
       "loudness            0\n",
       "duration_s          0\n",
       "energy              0\n",
       "instrumentalness    0\n",
       "speechiness         0\n",
       "acousticness        0\n",
       "danceability        0\n",
       "valence             0\n",
       "popularity          0\n",
       "liveness            0\n",
       "year                0\n",
       "id                  0\n",
       "dtype: int64"
      ]
     },
     "execution_count": 4,
     "metadata": {},
     "output_type": "execute_result"
    }
   ],
   "source": [
    "df.isnull().sum()"
   ]
  },
  {
   "cell_type": "code",
   "execution_count": 5,
   "metadata": {},
   "outputs": [
    {
     "data": {
      "text/plain": [
       "2018    0.034526\n",
       "2002    0.033558\n",
       "2001    0.033293\n",
       "1998    0.033205\n",
       "1996    0.033100\n",
       "2006    0.032994\n",
       "2010    0.032977\n",
       "1990    0.032906\n",
       "2017    0.032888\n",
       "2014    0.032888\n",
       "2011    0.032871\n",
       "1995    0.032677\n",
       "1997    0.032642\n",
       "1994    0.032572\n",
       "2007    0.032396\n",
       "2004    0.032360\n",
       "2000    0.032237\n",
       "1992    0.032219\n",
       "2005    0.032202\n",
       "1993    0.032184\n",
       "2009    0.032167\n",
       "2019    0.032043\n",
       "2008    0.031709\n",
       "2003    0.031691\n",
       "2013    0.031550\n",
       "1999    0.031515\n",
       "2020    0.031462\n",
       "1991    0.031339\n",
       "2015    0.030582\n",
       "2016    0.029649\n",
       "2012    0.029596\n",
       "Name: year, dtype: float64"
      ]
     },
     "execution_count": 5,
     "metadata": {},
     "output_type": "execute_result"
    }
   ],
   "source": [
    "# Data by year is quite evenly distributed.\n",
    "df['year'].value_counts(normalize=True)"
   ]
  },
  {
   "cell_type": "markdown",
   "metadata": {},
   "source": [
    "---\n",
    "---\n",
    "### Section 2\n",
    "#### Metric Comparison"
   ]
  },
  {
   "cell_type": "code",
   "execution_count": 6,
   "metadata": {},
   "outputs": [],
   "source": [
    "# Creating a small dataframe of songs I know well to test Spotify metrics against those generated by Librosa.\n",
    "spotify_metrics_test_df = pd.concat((df[51917:51918], df[51440:51441], df[55871:55872], df[36982:36983],\n",
    "                                     df[43245:43246], df[48257:48258], df[40585:40586], df[46528:46529],\n",
    "                                     df[40245:40246], df[12541:12542]))"
   ]
  },
  {
   "cell_type": "code",
   "execution_count": 7,
   "metadata": {},
   "outputs": [
    {
     "data": {
      "text/html": [
       "<div>\n",
       "<style scoped>\n",
       "    .dataframe tbody tr th:only-of-type {\n",
       "        vertical-align: middle;\n",
       "    }\n",
       "\n",
       "    .dataframe tbody tr th {\n",
       "        vertical-align: top;\n",
       "    }\n",
       "\n",
       "    .dataframe thead th {\n",
       "        text-align: right;\n",
       "    }\n",
       "</style>\n",
       "<table border=\"1\" class=\"dataframe\">\n",
       "  <thead>\n",
       "    <tr style=\"text-align: right;\">\n",
       "      <th></th>\n",
       "      <th>name</th>\n",
       "      <th>artists</th>\n",
       "      <th>tempo</th>\n",
       "      <th>key</th>\n",
       "      <th>mode</th>\n",
       "      <th>full_key</th>\n",
       "      <th>A minor</th>\n",
       "      <th>A# major</th>\n",
       "      <th>A# minor</th>\n",
       "      <th>B major</th>\n",
       "      <th>...</th>\n",
       "      <th>energy</th>\n",
       "      <th>instrumentalness</th>\n",
       "      <th>speechiness</th>\n",
       "      <th>acousticness</th>\n",
       "      <th>danceability</th>\n",
       "      <th>valence</th>\n",
       "      <th>popularity</th>\n",
       "      <th>liveness</th>\n",
       "      <th>year</th>\n",
       "      <th>id</th>\n",
       "    </tr>\n",
       "  </thead>\n",
       "  <tbody>\n",
       "    <tr>\n",
       "      <th>51917</th>\n",
       "      <td>ATTENTION</td>\n",
       "      <td>['Joji']</td>\n",
       "      <td>119.9</td>\n",
       "      <td>7</td>\n",
       "      <td>1</td>\n",
       "      <td>G major</td>\n",
       "      <td>0</td>\n",
       "      <td>0</td>\n",
       "      <td>0</td>\n",
       "      <td>0</td>\n",
       "      <td>...</td>\n",
       "      <td>0.312</td>\n",
       "      <td>0.022400</td>\n",
       "      <td>0.0383</td>\n",
       "      <td>0.89500</td>\n",
       "      <td>0.787</td>\n",
       "      <td>0.425</td>\n",
       "      <td>70</td>\n",
       "      <td>0.1150</td>\n",
       "      <td>2018</td>\n",
       "      <td>5aqu5xhPqoOWqF71PkfgM8</td>\n",
       "    </tr>\n",
       "    <tr>\n",
       "      <th>51440</th>\n",
       "      <td>SLOW DANCING IN THE DARK</td>\n",
       "      <td>['Joji']</td>\n",
       "      <td>89.0</td>\n",
       "      <td>3</td>\n",
       "      <td>1</td>\n",
       "      <td>D# major</td>\n",
       "      <td>0</td>\n",
       "      <td>0</td>\n",
       "      <td>0</td>\n",
       "      <td>0</td>\n",
       "      <td>...</td>\n",
       "      <td>0.479</td>\n",
       "      <td>0.005980</td>\n",
       "      <td>0.0261</td>\n",
       "      <td>0.54400</td>\n",
       "      <td>0.515</td>\n",
       "      <td>0.284</td>\n",
       "      <td>85</td>\n",
       "      <td>0.1910</td>\n",
       "      <td>2018</td>\n",
       "      <td>0rKtyWc8bvkriBthvHKY8d</td>\n",
       "    </tr>\n",
       "    <tr>\n",
       "      <th>55871</th>\n",
       "      <td>Levitating</td>\n",
       "      <td>['Dua Lipa']</td>\n",
       "      <td>103.0</td>\n",
       "      <td>6</td>\n",
       "      <td>0</td>\n",
       "      <td>F# minor</td>\n",
       "      <td>0</td>\n",
       "      <td>0</td>\n",
       "      <td>0</td>\n",
       "      <td>0</td>\n",
       "      <td>...</td>\n",
       "      <td>0.884</td>\n",
       "      <td>0.000000</td>\n",
       "      <td>0.0753</td>\n",
       "      <td>0.05610</td>\n",
       "      <td>0.695</td>\n",
       "      <td>0.914</td>\n",
       "      <td>78</td>\n",
       "      <td>0.2130</td>\n",
       "      <td>2020</td>\n",
       "      <td>39LLxExYz6ewLAcYrzQQyP</td>\n",
       "    </tr>\n",
       "    <tr>\n",
       "      <th>36982</th>\n",
       "      <td>Tighten Up</td>\n",
       "      <td>['The Black Keys']</td>\n",
       "      <td>109.0</td>\n",
       "      <td>6</td>\n",
       "      <td>0</td>\n",
       "      <td>F# minor</td>\n",
       "      <td>0</td>\n",
       "      <td>0</td>\n",
       "      <td>0</td>\n",
       "      <td>0</td>\n",
       "      <td>...</td>\n",
       "      <td>0.705</td>\n",
       "      <td>0.000004</td>\n",
       "      <td>0.0665</td>\n",
       "      <td>0.00121</td>\n",
       "      <td>0.504</td>\n",
       "      <td>0.567</td>\n",
       "      <td>62</td>\n",
       "      <td>0.4530</td>\n",
       "      <td>2010</td>\n",
       "      <td>2MVwrvjmcdt4MsYYLCYMt8</td>\n",
       "    </tr>\n",
       "    <tr>\n",
       "      <th>43245</th>\n",
       "      <td>Retrograde</td>\n",
       "      <td>['James Blake']</td>\n",
       "      <td>77.5</td>\n",
       "      <td>7</td>\n",
       "      <td>0</td>\n",
       "      <td>G minor</td>\n",
       "      <td>0</td>\n",
       "      <td>0</td>\n",
       "      <td>0</td>\n",
       "      <td>0</td>\n",
       "      <td>...</td>\n",
       "      <td>0.251</td>\n",
       "      <td>0.104000</td>\n",
       "      <td>0.0372</td>\n",
       "      <td>0.87300</td>\n",
       "      <td>0.533</td>\n",
       "      <td>0.186</td>\n",
       "      <td>66</td>\n",
       "      <td>0.1340</td>\n",
       "      <td>2013</td>\n",
       "      <td>2IqjKEBiz0CdLKdkXhxw84</td>\n",
       "    </tr>\n",
       "    <tr>\n",
       "      <th>48257</th>\n",
       "      <td>Way down We Go</td>\n",
       "      <td>['KALEO']</td>\n",
       "      <td>163.3</td>\n",
       "      <td>10</td>\n",
       "      <td>0</td>\n",
       "      <td>A# minor</td>\n",
       "      <td>0</td>\n",
       "      <td>0</td>\n",
       "      <td>1</td>\n",
       "      <td>0</td>\n",
       "      <td>...</td>\n",
       "      <td>0.505</td>\n",
       "      <td>0.000333</td>\n",
       "      <td>0.1170</td>\n",
       "      <td>0.57900</td>\n",
       "      <td>0.489</td>\n",
       "      <td>0.337</td>\n",
       "      <td>78</td>\n",
       "      <td>0.1040</td>\n",
       "      <td>2016</td>\n",
       "      <td>0y1QJc3SJVPKJ1OvFmFqe6</td>\n",
       "    </tr>\n",
       "    <tr>\n",
       "      <th>40585</th>\n",
       "      <td>Lotus Flower</td>\n",
       "      <td>['Radiohead']</td>\n",
       "      <td>128.0</td>\n",
       "      <td>2</td>\n",
       "      <td>0</td>\n",
       "      <td>D minor</td>\n",
       "      <td>0</td>\n",
       "      <td>0</td>\n",
       "      <td>0</td>\n",
       "      <td>0</td>\n",
       "      <td>...</td>\n",
       "      <td>0.676</td>\n",
       "      <td>0.336000</td>\n",
       "      <td>0.0321</td>\n",
       "      <td>0.08950</td>\n",
       "      <td>0.721</td>\n",
       "      <td>0.621</td>\n",
       "      <td>58</td>\n",
       "      <td>0.0826</td>\n",
       "      <td>2011</td>\n",
       "      <td>1amSa5xo79zINsgrpNlNge</td>\n",
       "    </tr>\n",
       "    <tr>\n",
       "      <th>46528</th>\n",
       "      <td>Paper Trail$</td>\n",
       "      <td>['Joey Bada$$']</td>\n",
       "      <td>93.6</td>\n",
       "      <td>1</td>\n",
       "      <td>0</td>\n",
       "      <td>C# minor</td>\n",
       "      <td>0</td>\n",
       "      <td>0</td>\n",
       "      <td>0</td>\n",
       "      <td>0</td>\n",
       "      <td>...</td>\n",
       "      <td>0.829</td>\n",
       "      <td>0.000000</td>\n",
       "      <td>0.2850</td>\n",
       "      <td>0.33900</td>\n",
       "      <td>0.548</td>\n",
       "      <td>0.452</td>\n",
       "      <td>63</td>\n",
       "      <td>0.5370</td>\n",
       "      <td>2015</td>\n",
       "      <td>23bOfmnZiN42pB1frXNyak</td>\n",
       "    </tr>\n",
       "    <tr>\n",
       "      <th>40245</th>\n",
       "      <td>Levels - Radio Edit</td>\n",
       "      <td>['Avicii']</td>\n",
       "      <td>126.0</td>\n",
       "      <td>1</td>\n",
       "      <td>0</td>\n",
       "      <td>C# minor</td>\n",
       "      <td>0</td>\n",
       "      <td>0</td>\n",
       "      <td>0</td>\n",
       "      <td>0</td>\n",
       "      <td>...</td>\n",
       "      <td>0.889</td>\n",
       "      <td>0.828000</td>\n",
       "      <td>0.0343</td>\n",
       "      <td>0.04620</td>\n",
       "      <td>0.584</td>\n",
       "      <td>0.464</td>\n",
       "      <td>76</td>\n",
       "      <td>0.3090</td>\n",
       "      <td>2011</td>\n",
       "      <td>5UqCQaDshqbIk3pkhy4Pjg</td>\n",
       "    </tr>\n",
       "    <tr>\n",
       "      <th>12541</th>\n",
       "      <td>Woo Hah!! Got You All in Check</td>\n",
       "      <td>['Busta Rhymes']</td>\n",
       "      <td>92.0</td>\n",
       "      <td>1</td>\n",
       "      <td>1</td>\n",
       "      <td>C# major</td>\n",
       "      <td>0</td>\n",
       "      <td>0</td>\n",
       "      <td>0</td>\n",
       "      <td>0</td>\n",
       "      <td>...</td>\n",
       "      <td>0.924</td>\n",
       "      <td>0.000000</td>\n",
       "      <td>0.3240</td>\n",
       "      <td>0.09850</td>\n",
       "      <td>0.716</td>\n",
       "      <td>0.786</td>\n",
       "      <td>56</td>\n",
       "      <td>0.3060</td>\n",
       "      <td>1996</td>\n",
       "      <td>09WxJCWFMWAxTHBLLelpDS</td>\n",
       "    </tr>\n",
       "  </tbody>\n",
       "</table>\n",
       "<p>10 rows × 41 columns</p>\n",
       "</div>"
      ],
      "text/plain": [
       "                                 name             artists  tempo  key  mode  \\\n",
       "51917                       ATTENTION            ['Joji']  119.9    7     1   \n",
       "51440        SLOW DANCING IN THE DARK            ['Joji']   89.0    3     1   \n",
       "55871                      Levitating        ['Dua Lipa']  103.0    6     0   \n",
       "36982                      Tighten Up  ['The Black Keys']  109.0    6     0   \n",
       "43245                      Retrograde     ['James Blake']   77.5    7     0   \n",
       "48257                  Way down We Go           ['KALEO']  163.3   10     0   \n",
       "40585                    Lotus Flower       ['Radiohead']  128.0    2     0   \n",
       "46528                    Paper Trail$     ['Joey Bada$$']   93.6    1     0   \n",
       "40245             Levels - Radio Edit          ['Avicii']  126.0    1     0   \n",
       "12541  Woo Hah!! Got You All in Check    ['Busta Rhymes']   92.0    1     1   \n",
       "\n",
       "       full_key  A minor  A# major  A# minor  B major  ...  energy  \\\n",
       "51917   G major        0         0         0        0  ...   0.312   \n",
       "51440  D# major        0         0         0        0  ...   0.479   \n",
       "55871  F# minor        0         0         0        0  ...   0.884   \n",
       "36982  F# minor        0         0         0        0  ...   0.705   \n",
       "43245   G minor        0         0         0        0  ...   0.251   \n",
       "48257  A# minor        0         0         1        0  ...   0.505   \n",
       "40585   D minor        0         0         0        0  ...   0.676   \n",
       "46528  C# minor        0         0         0        0  ...   0.829   \n",
       "40245  C# minor        0         0         0        0  ...   0.889   \n",
       "12541  C# major        0         0         0        0  ...   0.924   \n",
       "\n",
       "       instrumentalness  speechiness  acousticness  danceability  valence  \\\n",
       "51917          0.022400       0.0383       0.89500         0.787    0.425   \n",
       "51440          0.005980       0.0261       0.54400         0.515    0.284   \n",
       "55871          0.000000       0.0753       0.05610         0.695    0.914   \n",
       "36982          0.000004       0.0665       0.00121         0.504    0.567   \n",
       "43245          0.104000       0.0372       0.87300         0.533    0.186   \n",
       "48257          0.000333       0.1170       0.57900         0.489    0.337   \n",
       "40585          0.336000       0.0321       0.08950         0.721    0.621   \n",
       "46528          0.000000       0.2850       0.33900         0.548    0.452   \n",
       "40245          0.828000       0.0343       0.04620         0.584    0.464   \n",
       "12541          0.000000       0.3240       0.09850         0.716    0.786   \n",
       "\n",
       "       popularity  liveness  year                      id  \n",
       "51917          70    0.1150  2018  5aqu5xhPqoOWqF71PkfgM8  \n",
       "51440          85    0.1910  2018  0rKtyWc8bvkriBthvHKY8d  \n",
       "55871          78    0.2130  2020  39LLxExYz6ewLAcYrzQQyP  \n",
       "36982          62    0.4530  2010  2MVwrvjmcdt4MsYYLCYMt8  \n",
       "43245          66    0.1340  2013  2IqjKEBiz0CdLKdkXhxw84  \n",
       "48257          78    0.1040  2016  0y1QJc3SJVPKJ1OvFmFqe6  \n",
       "40585          58    0.0826  2011  1amSa5xo79zINsgrpNlNge  \n",
       "46528          63    0.5370  2015  23bOfmnZiN42pB1frXNyak  \n",
       "40245          76    0.3090  2011  5UqCQaDshqbIk3pkhy4Pjg  \n",
       "12541          56    0.3060  1996  09WxJCWFMWAxTHBLLelpDS  \n",
       "\n",
       "[10 rows x 41 columns]"
      ]
     },
     "execution_count": 7,
     "metadata": {},
     "output_type": "execute_result"
    }
   ],
   "source": [
    "spotify_metrics_test_df"
   ]
  },
  {
   "cell_type": "markdown",
   "metadata": {},
   "source": [
    "---"
   ]
  },
  {
   "cell_type": "markdown",
   "metadata": {},
   "source": [
    "#### Librosa"
   ]
  },
  {
   "cell_type": "code",
   "execution_count": 8,
   "metadata": {},
   "outputs": [],
   "source": [
    "# Defining global sample rate, frame size, and hop length for incoming audio\n",
    "sr = 44100\n",
    "frame = 2048\n",
    "hop = 512"
   ]
  },
  {
   "cell_type": "code",
   "execution_count": 9,
   "metadata": {},
   "outputs": [],
   "source": [
    "# Defining song filepaths for testing.\n",
    "black_keys_wav = '../songs_test/blackkeys_tightenup.wav'\n",
    "dua_lipa_wav = '../songs_test/dualipa_levitating.wav'\n",
    "james_blake_wav = '../songs_test/jamesblake_retrograde.wav'\n",
    "joey_wav = '../songs_test/joeybad_papertrails.wav'\n",
    "joji_attn_wav = '../songs_test/joji_attention.wav'\n",
    "# joji_slowdancing_wav = '../songs_test/joji_slowdancing.wav'\n",
    "# kaleo_wav = '../songs_test/kaleo_waydownwego.wav'\n",
    "# radiohead_wav = '../songs_test/radiohead_lotusflower.wav'"
   ]
  },
  {
   "cell_type": "code",
   "execution_count": 10,
   "metadata": {},
   "outputs": [],
   "source": [
    "# ipd.Audio(dua_lipa_wav)"
   ]
  },
  {
   "cell_type": "code",
   "execution_count": 11,
   "metadata": {},
   "outputs": [],
   "source": [
    "# ipd.Audio(joji_attn_wav)"
   ]
  },
  {
   "cell_type": "code",
   "execution_count": 12,
   "metadata": {},
   "outputs": [],
   "source": [
    "# ipd.Audio(james_blake_wav)"
   ]
  },
  {
   "cell_type": "markdown",
   "metadata": {},
   "source": [
    "**BELOW:** Loading songs into Librosa for feature extraction."
   ]
  },
  {
   "cell_type": "code",
   "execution_count": 13,
   "metadata": {},
   "outputs": [],
   "source": [
    "# avicii, sr = lib.load(avicii_wav, sr=sr)\n",
    "black_keys, _ = lib.load(black_keys_wav, sr=sr)\n",
    "# busta_rhymes, _ = lib.load(busta_rhymes_wav, sr=sr)\n",
    "dua_lipa, _ = lib.load(dua_lipa_wav, sr=sr)\n",
    "james_blake, _ = lib.load(james_blake_wav, sr=sr)\n",
    "joey, _ = lib.load(joey_wav, sr=sr)\n",
    "joji_attn, _ = lib.load(joji_attn_wav, sr=sr)\n",
    "# joji_slowdancing, _ = lib.load(joji_slowdancing_wav, sr=sr)\n",
    "# kaleo, _ = lib.load(kaleo_wav, sr=sr)\n",
    "# radiohead, _ = lib.load(radiohead_wav, sr=sr)"
   ]
  },
  {
   "cell_type": "code",
   "execution_count": 14,
   "metadata": {},
   "outputs": [
    {
     "data": {
      "text/plain": [
       "(8587968,)"
      ]
     },
     "execution_count": 14,
     "metadata": {},
     "output_type": "execute_result"
    }
   ],
   "source": [
    "joey.shape"
   ]
  },
  {
   "cell_type": "markdown",
   "metadata": {},
   "source": [
    "**BELOW:** Based on a comparison of four songs, the duration metric matches up for Spotify and Librosa. This makes sense, as they're just measuring duration of the audio file in seconds."
   ]
  },
  {
   "cell_type": "code",
   "execution_count": 15,
   "metadata": {},
   "outputs": [
    {
     "name": "stdout",
     "output_type": "stream",
     "text": [
      "Librosa measured duration in seconds (Dua Lipa - Levitating): 203.80798185941043\n",
      "Spotify measured duration in seconds (Dua Lipa - Levitating): 203.8\n",
      "-------------------------------------------------------------\n",
      "\n",
      "Librosa measured duration in seconds (Joji - Attention): 128.88820861678005\n",
      "Spotify measured duration in seconds (Joji - Attention): 128.9\n",
      "-------------------------------------------------------------\n",
      "\n",
      "Librosa measured duration in seconds (James Blake - Retrograde): 223.6\n",
      "Spotify measured duration in seconds (James Blake - Retrograde): 223.6\n",
      "-------------------------------------------------------------\n",
      "\n",
      "Librosa measured duration in seconds (Joey Bada$$ - Paper Trails): 194.73850340136053\n",
      "Spotify measured duration in seconds (Joey Bada$$ - Paper Trails): 194.7\n",
      "-------------------------------------------------------------\n",
      "\n"
     ]
    }
   ],
   "source": [
    "# Measuring duration in seconds for Dua Lipa - Levitating using Librosa\n",
    "print(f'Librosa measured duration in seconds (Dua Lipa - Levitating): {lib.get_duration(dua_lipa, sr=sr, n_fft=frame, hop_length=hop)}')\n",
    "\n",
    "# Comparing to Spotify measured duration\n",
    "print(f\"Spotify measured duration in seconds (Dua Lipa - Levitating): {df['duration_s'][55871]}\")\n",
    "print('-------------------------------------------------------------')\n",
    "print('')\n",
    "\n",
    "# Measuring duration in seconds for Joji - Attention using Librosa\n",
    "print(f'Librosa measured duration in seconds (Joji - Attention): {lib.get_duration(joji_attn, sr=sr, n_fft=frame, hop_length=hop)}')\n",
    "\n",
    "# Comparing to Spotify measured duration\n",
    "print(f\"Spotify measured duration in seconds (Joji - Attention): {df['duration_s'][51917]}\")\n",
    "print('-------------------------------------------------------------')\n",
    "print('')\n",
    "\n",
    "# Measuring duration in seconds for James Blake - Retrograde using Librosa\n",
    "print(f'Librosa measured duration in seconds (James Blake - Retrograde): {lib.get_duration(james_blake, sr=sr, n_fft=frame, hop_length=hop)}')\n",
    "\n",
    "# Comparing to Spotify measured duration\n",
    "print(f\"Spotify measured duration in seconds (James Blake - Retrograde): {df['duration_s'][43245]}\")\n",
    "print('-------------------------------------------------------------')\n",
    "print('')\n",
    "\n",
    "# Measuring duration in seconds for Joey Bada$$ - Paper Trails using Librosa\n",
    "print(f'Librosa measured duration in seconds (Joey Bada$$ - Paper Trails): {lib.get_duration(joey, sr=sr, n_fft=frame, hop_length=hop)}')\n",
    "\n",
    "# Comparing to Spotify measured duration\n",
    "print(f\"Spotify measured duration in seconds (Joey Bada$$ - Paper Trails): {df['duration_s'][46528]}\")\n",
    "print('-------------------------------------------------------------')\n",
    "print('')"
   ]
  },
  {
   "cell_type": "markdown",
   "metadata": {},
   "source": [
    "---\n",
    "**BELOW:** Using Librosa's `.beat_track()` method to estimate the tempo of my four test tracks and compare against Spotify's metrics."
   ]
  },
  {
   "cell_type": "code",
   "execution_count": 16,
   "metadata": {},
   "outputs": [
    {
     "name": "stdout",
     "output_type": "stream",
     "text": [
      "Librosa measured tempo in BPM (Dua Lipa - Levitating): 103.4\n",
      "Spotify measured tempo in BPM (Dua Lipa - Levitating): 103.0\n",
      "-------------------------------------------------------------\n",
      "\n",
      "Librosa measured tempo in BPM (Joji - Attention): 120.2\n",
      "Spotify measured tempo in BPM (Joji - Attention): 119.9\n",
      "-------------------------------------------------------------\n",
      "\n",
      "Librosa measured tempo in BPM (James Blake - Retrograde): 38.9\n",
      "Spotify measured tempo in BPM (James Blake - Retrograde): 77.5\n",
      "-------------------------------------------------------------\n",
      "\n",
      "Librosa measured tempo in BPM (Joey Bada$$ - Paper Trails): 94.0\n",
      "Spotify measured tempo in BPM (Joey Bada$$ - Paper Trails): 93.6\n",
      "-------------------------------------------------------------\n",
      "\n"
     ]
    }
   ],
   "source": [
    "# Measuring tempo in BPM for Dua Lipa - Levitating using Librosa\n",
    "tempo_dua, beats1 = lib.beat.beat_track(dua_lipa, sr=sr, hop_length=hop, units='time')\n",
    "print(f'Librosa measured tempo in BPM (Dua Lipa - Levitating): {round(tempo_dua, 1)}')\n",
    "\n",
    "# Comparing to Spotify measured tempo\n",
    "print(f\"Spotify measured tempo in BPM (Dua Lipa - Levitating): {df['tempo'][55871]}\")\n",
    "print('-------------------------------------------------------------')\n",
    "print('')\n",
    "\n",
    "# Measuring tempo in BPM for Joji - Attention using Librosa\n",
    "tempo_joji, _ = lib.beat.beat_track(joji_attn, sr=sr, hop_length=hop, units='time')\n",
    "print(f'Librosa measured tempo in BPM (Joji - Attention): {round(tempo_joji, 1)}')\n",
    "\n",
    "# Comparing to Spotify measured tempo\n",
    "print(f\"Spotify measured tempo in BPM (Joji - Attention): {df['tempo'][51917]}\")\n",
    "print('-------------------------------------------------------------')\n",
    "print('')\n",
    "\n",
    "# Measuring tempo in BPM for James Blake - Retrograde using Librosa\n",
    "tempo_james, _ = lib.beat.beat_track(james_blake, sr=sr, hop_length=hop, units='time')\n",
    "print(f'Librosa measured tempo in BPM (James Blake - Retrograde): {round(tempo_james, 1)}')\n",
    "\n",
    "# Comparing to Spotify measured tempo\n",
    "print(f\"Spotify measured tempo in BPM (James Blake - Retrograde): {df['tempo'][43245]}\")\n",
    "print('-------------------------------------------------------------')\n",
    "print('')\n",
    "\n",
    "# Measuring tempo in BPM for Joey Bada$$ - Paper Trails using Librosa\n",
    "tempo_joey, _ = lib.beat.beat_track(joey, sr=sr, hop_length=hop, units='time')\n",
    "print(f'Librosa measured tempo in BPM (Joey Bada$$ - Paper Trails): {round(tempo_joey, 1)}')\n",
    "\n",
    "# Comparing to Spotify measured tempo\n",
    "print(f\"Spotify measured tempo in BPM (Joey Bada$$ - Paper Trails): {df['tempo'][46528]}\")\n",
    "print('-------------------------------------------------------------')\n",
    "print('')"
   ]
  },
  {
   "cell_type": "code",
   "execution_count": 17,
   "metadata": {},
   "outputs": [
    {
     "data": {
      "text/plain": [
       "77.7"
      ]
     },
     "execution_count": 17,
     "metadata": {},
     "output_type": "execute_result"
    }
   ],
   "source": [
    "round((tempo_james * 2), 1)"
   ]
  },
  {
   "cell_type": "markdown",
   "metadata": {},
   "source": [
    "**ABOVE:** Spotify's tempo metric for *Retrograde*, by James Blake, is the preferred representation of the tempo of this song, at 77.5 bpm. Librosa technically generated a correct tempo, in that it's the actual tempo of the song divided by two (or represented in half time), but based on the feel of the track, and where the percussion *transients* fall, the tempo for this song would ideally be represented as 77.5 bpm."
   ]
  },
  {
   "cell_type": "markdown",
   "metadata": {},
   "source": [
    "---"
   ]
  },
  {
   "cell_type": "markdown",
   "metadata": {},
   "source": [
    "**BELOW:** Estimating song key based on the [Krumhansl-Schmuckler](http://davidtemperley.com/wp-content/uploads/2015/11/temperley-mp99.pdf) key-finding algorithm, and comparing to Spotify keys."
   ]
  },
  {
   "cell_type": "code",
   "execution_count": 18,
   "metadata": {},
   "outputs": [],
   "source": [
    "# Defining a function to estimate key based on the Krumhansl-Schmuckler algorithm\n",
    "# Referencing https://gist.github.com/bmcfee/1f66825cef2eb34c839b42dddbad49fd\n",
    "\n",
    "def key_estimator(chroma_vector):\n",
    "    chroma_vector = sp.stats.zscore(chroma_vector)\n",
    "    \n",
    "    # Coefficients are defined by Krumhansl and Schmuckler, and sourced from http://davidtemperley.com/wp-content/uploads/2015/11/temperley-mp99.pdf\n",
    "    major = np.asarray([6.35, 2.23, 3.48, 2.33, 4.38, 4.09, 2.52, 5.19, 2.39, 3.66, 2.29, 2.88])\n",
    "    major = sp.stats.zscore(major)\n",
    "    # Again here, coefficients are defined by Krumhansl and Schmuckler\n",
    "    minor = np.asarray([6.33, 2.68, 3.52, 5.38, 2.60, 3.53, 2.54, 4.75, 3.98, 2.69, 3.34, 3.17])\n",
    "    minor = sp.stats.zscore(minor)\n",
    "    \n",
    "    # Using Scipy's .circulant() method to determine all major and minor key rotations\n",
    "    # Referencing https://docs.scipy.org/doc/scipy/reference/generated/scipy.linalg.circulant.html\n",
    "    major = sp.linalg.circulant(major)\n",
    "    minor = sp.linalg.circulant(minor)\n",
    "    \n",
    "    return major.T.dot(chroma_vector), minor.T.dot(chroma_vector)"
   ]
  },
  {
   "cell_type": "code",
   "execution_count": 19,
   "metadata": {},
   "outputs": [],
   "source": [
    "# Using Librosa's .chroma_stft() method to compute a chromagram vector for a few test tracks\n",
    "dua_chroma = lib.feature.chroma_stft(dua_lipa, sr=sr, n_fft=frame, hop_length=hop, window=sp.signal.windows.hann)"
   ]
  },
  {
   "cell_type": "code",
   "execution_count": 20,
   "metadata": {},
   "outputs": [
    {
     "data": {
      "text/plain": [
       "(12, 17555)"
      ]
     },
     "execution_count": 20,
     "metadata": {},
     "output_type": "execute_result"
    }
   ],
   "source": [
    "dua_chroma.shape"
   ]
  },
  {
   "cell_type": "code",
   "execution_count": 21,
   "metadata": {},
   "outputs": [
    {
     "data": {
      "text/plain": [
       "array([[0.        , 0.        , 0.        , ..., 0.89867866, 0.86551255,\n",
       "        0.719558  ],\n",
       "       [0.        , 0.        , 0.        , ..., 0.8003816 , 0.913107  ,\n",
       "        0.93246454],\n",
       "       [0.        , 0.        , 0.        , ..., 0.68931043, 0.7823929 ,\n",
       "        1.        ],\n",
       "       ...,\n",
       "       [0.        , 0.        , 0.        , ..., 0.66141593, 0.74059874,\n",
       "        0.49795252],\n",
       "       [0.        , 0.        , 0.        , ..., 0.8405975 , 0.8477092 ,\n",
       "        0.69717693],\n",
       "       [0.        , 0.        , 0.        , ..., 1.        , 1.        ,\n",
       "        0.73045176]], dtype=float32)"
      ]
     },
     "execution_count": 21,
     "metadata": {},
     "output_type": "execute_result"
    }
   ],
   "source": [
    "dua_chroma"
   ]
  },
  {
   "cell_type": "code",
   "execution_count": 22,
   "metadata": {},
   "outputs": [
    {
     "name": "stderr",
     "output_type": "stream",
     "text": [
      "/Users/adam/opt/anaconda3/envs/dsi/lib/python3.8/site-packages/scipy/stats/stats.py:2500: RuntimeWarning: invalid value encountered in true_divide\n",
      "  return (a - mns) / sstd\n"
     ]
    },
    {
     "data": {
      "text/plain": [
       "(array([[        nan,         nan,         nan, ...,  0.15170024,\n",
       "         -1.83805935, -1.68751316],\n",
       "        [        nan,         nan,         nan, ...,  0.77885004,\n",
       "          1.25780626,  2.62431572],\n",
       "        [        nan,         nan,         nan, ..., -1.53415051,\n",
       "         -0.23886394,  1.73656113],\n",
       "        ...,\n",
       "        [        nan,         nan,         nan, ..., -2.23728098,\n",
       "          0.71295623, -1.71808591],\n",
       "        [        nan,         nan,         nan, ..., -1.85470924,\n",
       "         -1.17114508,  3.14073939],\n",
       "        [        nan,         nan,         nan, ...,  1.38161558,\n",
       "          1.58787897, -1.32358805]]),\n",
       " array([[        nan,         nan,         nan, ...,  1.37630339,\n",
       "         -0.95368582,  0.10733266],\n",
       "        [        nan,         nan,         nan, ...,  0.14231125,\n",
       "          1.51975379, -0.73412177],\n",
       "        [        nan,         nan,         nan, ..., -2.79653705,\n",
       "         -0.37541976,  5.02423175],\n",
       "        ...,\n",
       "        [        nan,         nan,         nan, ...,  0.01678102,\n",
       "          0.38007312, -4.3720956 ],\n",
       "        [        nan,         nan,         nan, ...,  1.23641453,\n",
       "          2.86338986,  3.07579192],\n",
       "        [        nan,         nan,         nan, ...,  3.61879968,\n",
       "          4.33429885,  3.62822475]]))"
      ]
     },
     "execution_count": 22,
     "metadata": {},
     "output_type": "execute_result"
    }
   ],
   "source": [
    "key_estimator(dua_chroma)"
   ]
  },
  {
   "cell_type": "code",
   "execution_count": 23,
   "metadata": {},
   "outputs": [],
   "source": [
    "dua_chroma2 = lib.feature.chroma_cqt(dua_lipa, sr=sr, hop_length=hop)"
   ]
  },
  {
   "cell_type": "code",
   "execution_count": 24,
   "metadata": {},
   "outputs": [
    {
     "data": {
      "text/plain": [
       "array([[0.7104592 , 0.70096034, 0.6947151 , ..., 0.3773473 , 0.30470502,\n",
       "        0.30704823],\n",
       "       [1.        , 1.        , 1.        , ..., 0.28540817, 0.3111105 ,\n",
       "        0.30655703],\n",
       "       [0.49123332, 0.4982942 , 0.52339965, ..., 0.30046612, 0.3172886 ,\n",
       "        0.3512941 ],\n",
       "       ...,\n",
       "       [0.5959041 , 0.6488847 , 0.64838505, ..., 0.44672137, 0.40471524,\n",
       "        0.38424549],\n",
       "       [0.3143823 , 0.37619048, 0.38206807, ..., 1.        , 1.        ,\n",
       "        1.        ],\n",
       "       [0.16350299, 0.19379097, 0.21449648, ..., 0.7951831 , 0.7913289 ,\n",
       "        0.7832941 ]], dtype=float32)"
      ]
     },
     "execution_count": 24,
     "metadata": {},
     "output_type": "execute_result"
    }
   ],
   "source": [
    "dua_chroma2"
   ]
  },
  {
   "cell_type": "code",
   "execution_count": 25,
   "metadata": {},
   "outputs": [],
   "source": [
    "key_dua_2 = key_estimator(dua_chroma2)"
   ]
  },
  {
   "cell_type": "code",
   "execution_count": 26,
   "metadata": {},
   "outputs": [
    {
     "data": {
      "text/plain": [
       "(array([[ 1.66946221,  1.34161208,  1.13154561, ..., -3.93786474,\n",
       "         -4.76322419, -4.6087194 ],\n",
       "        [ 7.2819317 ,  7.40455508,  7.45636154, ..., -1.33595678,\n",
       "         -0.97803395, -0.76180879],\n",
       "        [-1.62545638, -1.56724116, -1.50740072, ..., -2.39513408,\n",
       "         -2.39848582, -2.59703883],\n",
       "        ...,\n",
       "        [ 2.58735005,  2.93874416,  2.97643386, ..., -2.76449343,\n",
       "         -2.30551137, -3.52749683],\n",
       "        [-2.76848484, -2.44028141, -2.33069595, ...,  4.69920322,\n",
       "          4.97381125,  6.02872902],\n",
       "        [-3.78407472, -4.06231923, -3.97523835, ...,  3.00770252,\n",
       "          3.36086162,  2.93110647]]),\n",
       " array([[-1.64957666, -2.16570737, -2.291241  , ..., -2.00365377,\n",
       "         -2.82949547, -2.3408273 ],\n",
       "        [ 6.14425804,  6.15175564,  6.13781472, ..., -3.94591964,\n",
       "         -3.29771149, -4.56719488],\n",
       "        [ 0.89819328,  1.19954754,  1.45785725, ..., -1.05652521,\n",
       "         -0.52751534,  0.10184967],\n",
       "        ...,\n",
       "        [ 1.36146203,  1.59943457,  1.48849876, ..., -1.81654533,\n",
       "         -2.38821856, -3.07366254],\n",
       "        [ 3.32283354,  3.88879133,  3.88703346, ...,  5.31455936,\n",
       "          5.66838416,  6.01330425],\n",
       "        [-5.28348917, -5.46111341, -5.35558922, ...,  2.65036048,\n",
       "          2.8283591 ,  2.64891029]]))"
      ]
     },
     "execution_count": 26,
     "metadata": {},
     "output_type": "execute_result"
    }
   ],
   "source": [
    "key_dua_2"
   ]
  },
  {
   "cell_type": "code",
   "execution_count": 27,
   "metadata": {},
   "outputs": [
    {
     "data": {
      "image/png": "[encoded data removed]",
      "text/plain": [
       "<Figure size 1944x648 with 1 Axes>"
      ]
     },
     "metadata": {
      "needs_background": "light"
     },
     "output_type": "display_data"
    }
   ],
   "source": [
    "plt.figure(figsize=(27, 9))\n",
    "lib.display.specshow(dua_chroma2, x_axis='time', y_axis='chroma', hop_length=hop, cmap='coolwarm');"
   ]
  },
  {
   "cell_type": "code",
   "execution_count": null,
   "metadata": {},
   "outputs": [],
   "source": []
  },
  {
   "cell_type": "code",
   "execution_count": 28,
   "metadata": {},
   "outputs": [],
   "source": [
    "# pitches, magnitudes = lib.piptrack(joey, sr=sr, n_fft=frame, hop_length=hop)"
   ]
  },
  {
   "cell_type": "code",
   "execution_count": null,
   "metadata": {},
   "outputs": [],
   "source": []
  },
  {
   "cell_type": "markdown",
   "metadata": {},
   "source": [
    "---"
   ]
  },
  {
   "cell_type": "code",
   "execution_count": null,
   "metadata": {},
   "outputs": [],
   "source": []
  },
  {
   "cell_type": "code",
   "execution_count": null,
   "metadata": {},
   "outputs": [],
   "source": []
  },
  {
   "cell_type": "code",
   "execution_count": null,
   "metadata": {},
   "outputs": [],
   "source": []
  },
  {
   "cell_type": "code",
   "execution_count": null,
   "metadata": {},
   "outputs": [],
   "source": []
  },
  {
   "cell_type": "markdown",
   "metadata": {},
   "source": [
    "---"
   ]
  },
  {
   "cell_type": "markdown",
   "metadata": {},
   "source": [
    "**BELOW:** Using Librosa's `.hpss()` method to separate harmonic and percussive elements from tracks."
   ]
  },
  {
   "cell_type": "code",
   "execution_count": 29,
   "metadata": {},
   "outputs": [],
   "source": [
    "# dua_harmonic, dua_percussive = lib.effects.hpss(dua_lipa, margin=2)"
   ]
  },
  {
   "cell_type": "code",
   "execution_count": 30,
   "metadata": {},
   "outputs": [],
   "source": [
    "# # Using Librosa's .chroma_stft() method to compute a chromagram vector for a few test tracks\n",
    "# dua_chroma3 = lib.feature.chroma_stft(dua_harmonic, sr=sr, n_fft=frame, hop_length=hop, window=sp.signal.windows.hann)"
   ]
  },
  {
   "cell_type": "code",
   "execution_count": 31,
   "metadata": {},
   "outputs": [],
   "source": [
    "# plt.figure(figsize=(27, 9))\n",
    "# lib.display.specshow(dua_chroma3, x_axis='time', y_axis='chroma', hop_length=hop, cmap='coolwarm');"
   ]
  },
  {
   "cell_type": "code",
   "execution_count": 32,
   "metadata": {},
   "outputs": [],
   "source": [
    "# dua_chroma4 = lib.feature.chroma_cqt(dua_harmonic, sr=sr, hop_length=hop)"
   ]
  },
  {
   "cell_type": "code",
   "execution_count": 33,
   "metadata": {},
   "outputs": [],
   "source": [
    "# plt.figure(figsize=(27, 9))\n",
    "# lib.display.specshow(dua_chroma4, x_axis='time', y_axis='chroma', hop_length=hop, cmap='coolwarm');"
   ]
  },
  {
   "cell_type": "code",
   "execution_count": null,
   "metadata": {},
   "outputs": [],
   "source": []
  },
  {
   "cell_type": "markdown",
   "metadata": {},
   "source": [
    "---"
   ]
  },
  {
   "cell_type": "markdown",
   "metadata": {},
   "source": [
    "**BELOW:** Looking at RMS loudness."
   ]
  },
  {
   "cell_type": "code",
   "execution_count": 34,
   "metadata": {},
   "outputs": [],
   "source": [
    "james_rms = lib.feature.rms(james_blake, frame_length=frame, hop_length=hop)"
   ]
  },
  {
   "cell_type": "code",
   "execution_count": 35,
   "metadata": {},
   "outputs": [
    {
     "data": {
      "text/plain": [
       "0.18225987"
      ]
     },
     "execution_count": 35,
     "metadata": {},
     "output_type": "execute_result"
    }
   ],
   "source": [
    "james_rms.mean()"
   ]
  },
  {
   "cell_type": "code",
   "execution_count": 36,
   "metadata": {},
   "outputs": [
    {
     "data": {
      "text/plain": [
       "-11.283"
      ]
     },
     "execution_count": 36,
     "metadata": {},
     "output_type": "execute_result"
    }
   ],
   "source": [
    "df['loudness'][43245]"
   ]
  },
  {
   "cell_type": "code",
   "execution_count": null,
   "metadata": {},
   "outputs": [],
   "source": []
  },
  {
   "cell_type": "code",
   "execution_count": null,
   "metadata": {},
   "outputs": [],
   "source": []
  }
 ],
 "metadata": {
  "kernelspec": {
   "display_name": "Python 3",
   "language": "python",
   "name": "python3"
  },
  "language_info": {
   "codemirror_mode": {
    "name": "ipython",
    "version": 3
   },
   "file_extension": ".py",
   "mimetype": "text/x-python",
   "name": "python",
   "nbconvert_exporter": "python",
   "pygments_lexer": "ipython3",
   "version": "3.8.5"
  }
 },
 "nbformat": 4,
 "nbformat_minor": 4
}
