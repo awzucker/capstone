{
 "cells": [
  {
   "cell_type": "code",
   "execution_count": 1,
   "metadata": {},
   "outputs": [],
   "source": [
    "import numpy as np\n",
    "import pandas as pd\n",
    "import matplotlib.pyplot as plt\n",
    "import seaborn as sns\n",
    "\n",
    "import librosa\n",
    "import os"
   ]
  },
  {
   "cell_type": "code",
   "execution_count": 4,
   "metadata": {},
   "outputs": [
    {
     "name": "stderr",
     "output_type": "stream",
     "text": [
      "Downloading file 'Kevin_MacLeod_-_P_I_Tchaikovsky_Dance_of_the_Sugar_Plum_Fairy.ogg' from 'https://librosa.org/data/audio/Kevin_MacLeod_-_P_I_Tchaikovsky_Dance_of_the_Sugar_Plum_Fairy.ogg' to '/Users/adam/Library/Caches/librosa'.\n",
      "/Users/adam/opt/anaconda3/envs/audio/lib/python3.8/site-packages/librosa/core/audio.py:162: UserWarning: PySoundFile failed. Trying audioread instead.\n",
      "  warnings.warn(\"PySoundFile failed. Trying audioread instead.\")\n"
     ]
    },
    {
     "name": "stdout",
     "output_type": "stream",
     "text": [
      "Estimated tempo: 107.67 beats per minute\n"
     ]
    }
   ],
   "source": [
    "# 1. Get the file path to an included audio example\n",
    "filename = librosa.example('nutcracker')\n",
    "\n",
    "\n",
    "# 2. Load the audio as a waveform `y`\n",
    "#    Store the sampling rate as `sr`\n",
    "y, sr = librosa.load(filename)\n",
    "\n",
    "# 3. Run the default beat tracker\n",
    "tempo, beat_frames = librosa.beat.beat_track(y=y, sr=sr)\n",
    "\n",
    "print('Estimated tempo: {:.2f} beats per minute'.format(tempo))\n",
    "\n",
    "# 4. Convert the frame indices of beat events into timestamps\n",
    "beat_times = librosa.frames_to_time(beat_frames, sr=sr)"
   ]
  },
  {
   "cell_type": "markdown",
   "metadata": {},
   "source": [
    "**NOTE:** Download/install/update `PySoundFile`\n",
    "\n",
    "**BELOW:** Divide audio into harmonic and percussive elements, get tempo based on percussive elements."
   ]
  },
  {
   "cell_type": "code",
   "execution_count": 5,
   "metadata": {},
   "outputs": [
    {
     "name": "stderr",
     "output_type": "stream",
     "text": [
      "/Users/adam/opt/anaconda3/envs/audio/lib/python3.8/site-packages/librosa/core/audio.py:162: UserWarning: PySoundFile failed. Trying audioread instead.\n",
      "  warnings.warn(\"PySoundFile failed. Trying audioread instead.\")\n"
     ]
    }
   ],
   "source": [
    "# Load the example clip\n",
    "y, sr = librosa.load(librosa.ex('nutcracker'))\n",
    "\n",
    "# Set the hop length; at 22050 Hz, 512 samples ~= 23ms\n",
    "hop_length = 512\n",
    "\n",
    "# ---------------------\n",
    "# Separate harmonics and percussives into two waveforms\n",
    "y_harmonic, y_percussive = librosa.effects.hpss(y)\n",
    "\n",
    "# Beat track on the percussive signal\n",
    "tempo, beat_frames = librosa.beat.beat_track(y=y_percussive,\n",
    "                                             sr=sr)\n",
    "# ---------------------\n",
    "\n",
    "# Compute MFCC features from the raw signal\n",
    "mfcc = librosa.feature.mfcc(y=y, sr=sr, hop_length=hop_length, n_mfcc=13)\n",
    "\n",
    "# And the first-order differences (delta features)\n",
    "mfcc_delta = librosa.feature.delta(mfcc)\n",
    "\n",
    "# Stack and synchronize between beat events\n",
    "# This time, we'll use the mean value (default) instead of median\n",
    "beat_mfcc_delta = librosa.util.sync(np.vstack([mfcc, mfcc_delta]),\n",
    "                                    beat_frames)\n",
    "\n",
    "# Compute chroma features from the harmonic signal\n",
    "chromagram = librosa.feature.chroma_cqt(y=y_harmonic,\n",
    "                                        sr=sr)\n",
    "\n",
    "# Aggregate chroma features between beat events\n",
    "# We'll use the median value of each feature between beat frames\n",
    "beat_chroma = librosa.util.sync(chromagram,\n",
    "                                beat_frames,\n",
    "                                aggregate=np.median)\n",
    "\n",
    "# Finally, stack all beat-synchronous features together\n",
    "beat_features = np.vstack([beat_chroma, beat_mfcc_delta])"
   ]
  },
  {
   "cell_type": "code",
   "execution_count": 6,
   "metadata": {},
   "outputs": [
    {
     "data": {
      "text/plain": [
       "array([[0.624562  , 0.6000365 , 0.3891103 , ..., 0.12988181, 0.26408905,\n",
       "        0.46952796],\n",
       "       [0.45346972, 0.31484362, 0.29985076, ..., 0.14454272, 0.13794322,\n",
       "        0.20688398],\n",
       "       [0.4300288 , 0.4736917 , 0.3885005 , ..., 0.5249095 , 0.4183366 ,\n",
       "        0.35342664],\n",
       "       ...,\n",
       "       [0.6775574 , 0.46899557, 0.31649804, ..., 0.15098049, 0.20618644,\n",
       "        0.41384566],\n",
       "       [0.4585575 , 0.43789858, 0.31573945, ..., 0.27923036, 0.28339976,\n",
       "        0.5822882 ],\n",
       "       [1.        , 1.        , 1.        , ..., 0.96677846, 0.8960364 ,\n",
       "        1.        ]], dtype=float32)"
      ]
     },
     "execution_count": 6,
     "metadata": {},
     "output_type": "execute_result"
    }
   ],
   "source": [
    "chromagram"
   ]
  },
  {
   "cell_type": "code",
   "execution_count": 7,
   "metadata": {},
   "outputs": [
    {
     "data": {
      "text/plain": [
       "array([[ 0.32793146,  0.03347357,  0.10583013, ...,  0.15275124,\n",
       "         0.07555592,  0.08132137],\n",
       "       [ 0.31918573,  0.04075494,  0.0842821 , ...,  0.09635098,\n",
       "         0.12809394,  0.09471031],\n",
       "       [ 0.4736917 ,  0.05757335,  0.09427972, ...,  0.44614288,\n",
       "         0.18659325,  0.13297296],\n",
       "       ...,\n",
       "       [-0.06533479, -0.14681545,  0.05347487, ..., -0.17101115,\n",
       "         0.62330383,  0.12903129],\n",
       "       [-0.02285836, -0.13743223, -0.01169371, ..., -0.25085154,\n",
       "         0.25030592,  0.00825023],\n",
       "       [ 0.02850422, -0.20077428, -0.05553005, ...,  0.07408718,\n",
       "        -0.6145776 ,  0.07621999]], dtype=float32)"
      ]
     },
     "execution_count": 7,
     "metadata": {},
     "output_type": "execute_result"
    }
   ],
   "source": [
    "beat_features"
   ]
  },
  {
   "cell_type": "code",
   "execution_count": 8,
   "metadata": {},
   "outputs": [
    {
     "data": {
      "text/plain": [
       "array([[0.32793146, 0.03347357, 0.10583013, ..., 0.15275124, 0.07555592,\n",
       "        0.08132137],\n",
       "       [0.31918573, 0.04075494, 0.0842821 , ..., 0.09635098, 0.12809394,\n",
       "        0.09471031],\n",
       "       [0.4736917 , 0.05757335, 0.09427972, ..., 0.44614288, 0.18659325,\n",
       "        0.13297296],\n",
       "       ...,\n",
       "       [0.26491377, 0.01814758, 0.03974865, ..., 0.18357868, 0.9031806 ,\n",
       "        0.04013696],\n",
       "       [0.20277342, 0.01895499, 0.05991492, ..., 0.15096286, 0.18061754,\n",
       "        0.05557969],\n",
       "       [0.2608637 , 0.04809818, 0.35861766, ..., 0.40117043, 0.29769996,\n",
       "        0.35132593]], dtype=float32)"
      ]
     },
     "execution_count": 8,
     "metadata": {},
     "output_type": "execute_result"
    }
   ],
   "source": [
    "beat_chroma"
   ]
  },
  {
   "cell_type": "code",
   "execution_count": null,
   "metadata": {},
   "outputs": [],
   "source": []
  }
 ],
 "metadata": {
  "kernelspec": {
   "display_name": "Python 3",
   "language": "python",
   "name": "python3"
  },
  "language_info": {
   "codemirror_mode": {
    "name": "ipython",
    "version": 3
   },
   "file_extension": ".py",
   "mimetype": "text/x-python",
   "name": "python",
   "nbconvert_exporter": "python",
   "pygments_lexer": "ipython3",
   "version": "3.8.5"
  }
 },
 "nbformat": 4,
 "nbformat_minor": 4
}
